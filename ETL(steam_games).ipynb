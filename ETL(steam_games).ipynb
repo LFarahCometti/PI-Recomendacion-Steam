{
 "cells": [
  {
   "cell_type": "code",
   "execution_count": 83,
   "metadata": {},
   "outputs": [],
   "source": [
    "import pandas as pd \n",
    "import json\n",
    "import gzip\n",
    "import pyarrow as pa\n",
    "import pyarrow.parquet as pq"
   ]
  },
  {
   "cell_type": "markdown",
   "metadata": {},
   "source": [
    "Carga de los datos\n"
   ]
  },
  {
   "cell_type": "code",
   "execution_count": 84,
   "metadata": {},
   "outputs": [
    {
     "data": {
      "text/html": [
       "<div>\n",
       "<style scoped>\n",
       "    .dataframe tbody tr th:only-of-type {\n",
       "        vertical-align: middle;\n",
       "    }\n",
       "\n",
       "    .dataframe tbody tr th {\n",
       "        vertical-align: top;\n",
       "    }\n",
       "\n",
       "    .dataframe thead th {\n",
       "        text-align: right;\n",
       "    }\n",
       "</style>\n",
       "<table border=\"1\" class=\"dataframe\">\n",
       "  <thead>\n",
       "    <tr style=\"text-align: right;\">\n",
       "      <th></th>\n",
       "      <th>publisher</th>\n",
       "      <th>genres</th>\n",
       "      <th>app_name</th>\n",
       "      <th>title</th>\n",
       "      <th>url</th>\n",
       "      <th>release_date</th>\n",
       "      <th>tags</th>\n",
       "      <th>reviews_url</th>\n",
       "      <th>specs</th>\n",
       "      <th>price</th>\n",
       "      <th>early_access</th>\n",
       "      <th>id</th>\n",
       "      <th>developer</th>\n",
       "    </tr>\n",
       "  </thead>\n",
       "  <tbody>\n",
       "    <tr>\n",
       "      <th>0</th>\n",
       "      <td>NaN</td>\n",
       "      <td>NaN</td>\n",
       "      <td>NaN</td>\n",
       "      <td>NaN</td>\n",
       "      <td>NaN</td>\n",
       "      <td>NaN</td>\n",
       "      <td>NaN</td>\n",
       "      <td>NaN</td>\n",
       "      <td>NaN</td>\n",
       "      <td>NaN</td>\n",
       "      <td>NaN</td>\n",
       "      <td>NaN</td>\n",
       "      <td>NaN</td>\n",
       "    </tr>\n",
       "    <tr>\n",
       "      <th>1</th>\n",
       "      <td>NaN</td>\n",
       "      <td>NaN</td>\n",
       "      <td>NaN</td>\n",
       "      <td>NaN</td>\n",
       "      <td>NaN</td>\n",
       "      <td>NaN</td>\n",
       "      <td>NaN</td>\n",
       "      <td>NaN</td>\n",
       "      <td>NaN</td>\n",
       "      <td>NaN</td>\n",
       "      <td>NaN</td>\n",
       "      <td>NaN</td>\n",
       "      <td>NaN</td>\n",
       "    </tr>\n",
       "    <tr>\n",
       "      <th>2</th>\n",
       "      <td>NaN</td>\n",
       "      <td>NaN</td>\n",
       "      <td>NaN</td>\n",
       "      <td>NaN</td>\n",
       "      <td>NaN</td>\n",
       "      <td>NaN</td>\n",
       "      <td>NaN</td>\n",
       "      <td>NaN</td>\n",
       "      <td>NaN</td>\n",
       "      <td>NaN</td>\n",
       "      <td>NaN</td>\n",
       "      <td>NaN</td>\n",
       "      <td>NaN</td>\n",
       "    </tr>\n",
       "    <tr>\n",
       "      <th>3</th>\n",
       "      <td>NaN</td>\n",
       "      <td>NaN</td>\n",
       "      <td>NaN</td>\n",
       "      <td>NaN</td>\n",
       "      <td>NaN</td>\n",
       "      <td>NaN</td>\n",
       "      <td>NaN</td>\n",
       "      <td>NaN</td>\n",
       "      <td>NaN</td>\n",
       "      <td>NaN</td>\n",
       "      <td>NaN</td>\n",
       "      <td>NaN</td>\n",
       "      <td>NaN</td>\n",
       "    </tr>\n",
       "    <tr>\n",
       "      <th>4</th>\n",
       "      <td>NaN</td>\n",
       "      <td>NaN</td>\n",
       "      <td>NaN</td>\n",
       "      <td>NaN</td>\n",
       "      <td>NaN</td>\n",
       "      <td>NaN</td>\n",
       "      <td>NaN</td>\n",
       "      <td>NaN</td>\n",
       "      <td>NaN</td>\n",
       "      <td>NaN</td>\n",
       "      <td>NaN</td>\n",
       "      <td>NaN</td>\n",
       "      <td>NaN</td>\n",
       "    </tr>\n",
       "  </tbody>\n",
       "</table>\n",
       "</div>"
      ],
      "text/plain": [
       "  publisher genres app_name title  url release_date tags reviews_url specs  \\\n",
       "0       NaN    NaN      NaN   NaN  NaN          NaN  NaN         NaN   NaN   \n",
       "1       NaN    NaN      NaN   NaN  NaN          NaN  NaN         NaN   NaN   \n",
       "2       NaN    NaN      NaN   NaN  NaN          NaN  NaN         NaN   NaN   \n",
       "3       NaN    NaN      NaN   NaN  NaN          NaN  NaN         NaN   NaN   \n",
       "4       NaN    NaN      NaN   NaN  NaN          NaN  NaN         NaN   NaN   \n",
       "\n",
       "  price early_access   id developer  \n",
       "0   NaN          NaN  NaN       NaN  \n",
       "1   NaN          NaN  NaN       NaN  \n",
       "2   NaN          NaN  NaN       NaN  \n",
       "3   NaN          NaN  NaN       NaN  \n",
       "4   NaN          NaN  NaN       NaN  "
      ]
     },
     "execution_count": 84,
     "metadata": {},
     "output_type": "execute_result"
    }
   ],
   "source": [
    "# Leemos el archivo json y lo guardamos en una lista\n",
    "row = [] # creamos una lista vacia para ir agregando las filas del archivo json\n",
    "with open ('datasets_json\\output_steam_games.json') as file: # abrimos el archivo json\n",
    "    for line in file.readlines(): # leemos linea por linea\n",
    "        data = json.loads(line) #guardamos los datos de cada linea en una variable data \n",
    "        row.append(data)   #agregamos esa data a la lista vacia\n",
    "\n",
    "# Convertimos la lista en un dataframe \n",
    "steam_games_original = pd.DataFrame(row)\n",
    "steam_games_original.head()"
   ]
  },
  {
   "cell_type": "markdown",
   "metadata": {},
   "source": [
    "Vemos como esta conformado el Dataframe"
   ]
  },
  {
   "cell_type": "code",
   "execution_count": 85,
   "metadata": {},
   "outputs": [
    {
     "data": {
      "text/plain": [
       "(120445, 13)"
      ]
     },
     "execution_count": 85,
     "metadata": {},
     "output_type": "execute_result"
    }
   ],
   "source": [
    "steam_games_original.shape #nos damos una idea de que tan grande es el Dataframe"
   ]
  },
  {
   "cell_type": "code",
   "execution_count": 86,
   "metadata": {},
   "outputs": [
    {
     "name": "stdout",
     "output_type": "stream",
     "text": [
      "<class 'pandas.core.frame.DataFrame'>\n",
      "RangeIndex: 120445 entries, 0 to 120444\n",
      "Data columns (total 13 columns):\n",
      " #   Column        Non-Null Count  Dtype \n",
      "---  ------        --------------  ----- \n",
      " 0   publisher     24083 non-null  object\n",
      " 1   genres        28852 non-null  object\n",
      " 2   app_name      32133 non-null  object\n",
      " 3   title         30085 non-null  object\n",
      " 4   url           32135 non-null  object\n",
      " 5   release_date  30068 non-null  object\n",
      " 6   tags          31972 non-null  object\n",
      " 7   reviews_url   32133 non-null  object\n",
      " 8   specs         31465 non-null  object\n",
      " 9   price         30758 non-null  object\n",
      " 10  early_access  32135 non-null  object\n",
      " 11  id            32133 non-null  object\n",
      " 12  developer     28836 non-null  object\n",
      "dtypes: object(13)\n",
      "memory usage: 11.9+ MB\n"
     ]
    }
   ],
   "source": [
    "steam_games_original.info() #Solicitamos mas informacion"
   ]
  },
  {
   "cell_type": "code",
   "execution_count": 87,
   "metadata": {},
   "outputs": [
    {
     "data": {
      "text/html": [
       "<div>\n",
       "<style scoped>\n",
       "    .dataframe tbody tr th:only-of-type {\n",
       "        vertical-align: middle;\n",
       "    }\n",
       "\n",
       "    .dataframe tbody tr th {\n",
       "        vertical-align: top;\n",
       "    }\n",
       "\n",
       "    .dataframe thead th {\n",
       "        text-align: right;\n",
       "    }\n",
       "</style>\n",
       "<table border=\"1\" class=\"dataframe\">\n",
       "  <thead>\n",
       "    <tr style=\"text-align: right;\">\n",
       "      <th></th>\n",
       "      <th>publisher</th>\n",
       "      <th>genres</th>\n",
       "      <th>app_name</th>\n",
       "      <th>title</th>\n",
       "      <th>url</th>\n",
       "      <th>release_date</th>\n",
       "      <th>tags</th>\n",
       "      <th>reviews_url</th>\n",
       "      <th>specs</th>\n",
       "      <th>price</th>\n",
       "      <th>early_access</th>\n",
       "      <th>id</th>\n",
       "      <th>developer</th>\n",
       "    </tr>\n",
       "  </thead>\n",
       "  <tbody>\n",
       "    <tr>\n",
       "      <th>count</th>\n",
       "      <td>24083</td>\n",
       "      <td>28852</td>\n",
       "      <td>32133</td>\n",
       "      <td>30085</td>\n",
       "      <td>32135</td>\n",
       "      <td>30068</td>\n",
       "      <td>31972</td>\n",
       "      <td>32133</td>\n",
       "      <td>31465</td>\n",
       "      <td>30758.00</td>\n",
       "      <td>32135</td>\n",
       "      <td>32133</td>\n",
       "      <td>28836</td>\n",
       "    </tr>\n",
       "    <tr>\n",
       "      <th>unique</th>\n",
       "      <td>8239</td>\n",
       "      <td>883</td>\n",
       "      <td>32094</td>\n",
       "      <td>30054</td>\n",
       "      <td>32135</td>\n",
       "      <td>3582</td>\n",
       "      <td>15395</td>\n",
       "      <td>32132</td>\n",
       "      <td>4649</td>\n",
       "      <td>162.00</td>\n",
       "      <td>2</td>\n",
       "      <td>32132</td>\n",
       "      <td>10992</td>\n",
       "    </tr>\n",
       "    <tr>\n",
       "      <th>top</th>\n",
       "      <td>Ubisoft</td>\n",
       "      <td>[Action]</td>\n",
       "      <td>Soundtrack</td>\n",
       "      <td>Soundtrack</td>\n",
       "      <td>http://store.steampowered.com/app/761140/Lost_...</td>\n",
       "      <td>2012-10-16</td>\n",
       "      <td>[Casual, Simulation]</td>\n",
       "      <td>http://steamcommunity.com/app/612880/reviews/?...</td>\n",
       "      <td>[Single-player]</td>\n",
       "      <td>4.99</td>\n",
       "      <td>False</td>\n",
       "      <td>612880</td>\n",
       "      <td>Ubisoft - San Francisco</td>\n",
       "    </tr>\n",
       "    <tr>\n",
       "      <th>freq</th>\n",
       "      <td>385</td>\n",
       "      <td>1880</td>\n",
       "      <td>3</td>\n",
       "      <td>3</td>\n",
       "      <td>1</td>\n",
       "      <td>100</td>\n",
       "      <td>1292</td>\n",
       "      <td>2</td>\n",
       "      <td>2794</td>\n",
       "      <td>4278.00</td>\n",
       "      <td>30188</td>\n",
       "      <td>2</td>\n",
       "      <td>1259</td>\n",
       "    </tr>\n",
       "  </tbody>\n",
       "</table>\n",
       "</div>"
      ],
      "text/plain": [
       "       publisher    genres    app_name       title  \\\n",
       "count      24083     28852       32133       30085   \n",
       "unique      8239       883       32094       30054   \n",
       "top      Ubisoft  [Action]  Soundtrack  Soundtrack   \n",
       "freq         385      1880           3           3   \n",
       "\n",
       "                                                      url release_date  \\\n",
       "count                                               32135        30068   \n",
       "unique                                              32135         3582   \n",
       "top     http://store.steampowered.com/app/761140/Lost_...   2012-10-16   \n",
       "freq                                                    1          100   \n",
       "\n",
       "                        tags  \\\n",
       "count                  31972   \n",
       "unique                 15395   \n",
       "top     [Casual, Simulation]   \n",
       "freq                    1292   \n",
       "\n",
       "                                              reviews_url            specs  \\\n",
       "count                                               32133            31465   \n",
       "unique                                              32132             4649   \n",
       "top     http://steamcommunity.com/app/612880/reviews/?...  [Single-player]   \n",
       "freq                                                    2             2794   \n",
       "\n",
       "           price early_access      id                developer  \n",
       "count   30758.00        32135   32133                    28836  \n",
       "unique    162.00            2   32132                    10992  \n",
       "top         4.99        False  612880  Ubisoft - San Francisco  \n",
       "freq     4278.00        30188       2                     1259  "
      ]
     },
     "execution_count": 87,
     "metadata": {},
     "output_type": "execute_result"
    }
   ],
   "source": [
    "steam_games_original.describe() #obtenemos informacion de cuales son las columnas con valores numericos "
   ]
  },
  {
   "cell_type": "code",
   "execution_count": 88,
   "metadata": {},
   "outputs": [
    {
     "data": {
      "text/plain": [
       "publisher       96362\n",
       "genres          91593\n",
       "app_name        88312\n",
       "title           90360\n",
       "url             88310\n",
       "release_date    90377\n",
       "tags            88473\n",
       "reviews_url     88312\n",
       "specs           88980\n",
       "price           89687\n",
       "early_access    88310\n",
       "id              88312\n",
       "developer       91609\n",
       "dtype: int64"
      ]
     },
     "execution_count": 88,
     "metadata": {},
     "output_type": "execute_result"
    }
   ],
   "source": [
    "steam_games_original.isnull().sum() #vemos cuantos null hay dentro del dataframe"
   ]
  },
  {
   "cell_type": "markdown",
   "metadata": {},
   "source": [
    "Proseguimos a ver los duplicados dentro del dataframe"
   ]
  },
  {
   "cell_type": "code",
   "execution_count": 89,
   "metadata": {},
   "outputs": [
    {
     "data": {
      "text/html": [
       "<div>\n",
       "<style scoped>\n",
       "    .dataframe tbody tr th:only-of-type {\n",
       "        vertical-align: middle;\n",
       "    }\n",
       "\n",
       "    .dataframe tbody tr th {\n",
       "        vertical-align: top;\n",
       "    }\n",
       "\n",
       "    .dataframe thead th {\n",
       "        text-align: right;\n",
       "    }\n",
       "</style>\n",
       "<table border=\"1\" class=\"dataframe\">\n",
       "  <thead>\n",
       "    <tr style=\"text-align: right;\">\n",
       "      <th></th>\n",
       "      <th>publisher</th>\n",
       "      <th>genres</th>\n",
       "      <th>app_name</th>\n",
       "      <th>title</th>\n",
       "      <th>url</th>\n",
       "      <th>release_date</th>\n",
       "      <th>tags</th>\n",
       "      <th>reviews_url</th>\n",
       "      <th>specs</th>\n",
       "      <th>price</th>\n",
       "      <th>early_access</th>\n",
       "      <th>id</th>\n",
       "      <th>developer</th>\n",
       "    </tr>\n",
       "  </thead>\n",
       "  <tbody>\n",
       "    <tr>\n",
       "      <th>1</th>\n",
       "      <td>NaN</td>\n",
       "      <td>NaN</td>\n",
       "      <td>NaN</td>\n",
       "      <td>NaN</td>\n",
       "      <td>NaN</td>\n",
       "      <td>NaN</td>\n",
       "      <td>NaN</td>\n",
       "      <td>NaN</td>\n",
       "      <td>NaN</td>\n",
       "      <td>NaN</td>\n",
       "      <td>NaN</td>\n",
       "      <td>NaN</td>\n",
       "      <td>NaN</td>\n",
       "    </tr>\n",
       "    <tr>\n",
       "      <th>2</th>\n",
       "      <td>NaN</td>\n",
       "      <td>NaN</td>\n",
       "      <td>NaN</td>\n",
       "      <td>NaN</td>\n",
       "      <td>NaN</td>\n",
       "      <td>NaN</td>\n",
       "      <td>NaN</td>\n",
       "      <td>NaN</td>\n",
       "      <td>NaN</td>\n",
       "      <td>NaN</td>\n",
       "      <td>NaN</td>\n",
       "      <td>NaN</td>\n",
       "      <td>NaN</td>\n",
       "    </tr>\n",
       "    <tr>\n",
       "      <th>3</th>\n",
       "      <td>NaN</td>\n",
       "      <td>NaN</td>\n",
       "      <td>NaN</td>\n",
       "      <td>NaN</td>\n",
       "      <td>NaN</td>\n",
       "      <td>NaN</td>\n",
       "      <td>NaN</td>\n",
       "      <td>NaN</td>\n",
       "      <td>NaN</td>\n",
       "      <td>NaN</td>\n",
       "      <td>NaN</td>\n",
       "      <td>NaN</td>\n",
       "      <td>NaN</td>\n",
       "    </tr>\n",
       "    <tr>\n",
       "      <th>4</th>\n",
       "      <td>NaN</td>\n",
       "      <td>NaN</td>\n",
       "      <td>NaN</td>\n",
       "      <td>NaN</td>\n",
       "      <td>NaN</td>\n",
       "      <td>NaN</td>\n",
       "      <td>NaN</td>\n",
       "      <td>NaN</td>\n",
       "      <td>NaN</td>\n",
       "      <td>NaN</td>\n",
       "      <td>NaN</td>\n",
       "      <td>NaN</td>\n",
       "      <td>NaN</td>\n",
       "    </tr>\n",
       "    <tr>\n",
       "      <th>5</th>\n",
       "      <td>NaN</td>\n",
       "      <td>NaN</td>\n",
       "      <td>NaN</td>\n",
       "      <td>NaN</td>\n",
       "      <td>NaN</td>\n",
       "      <td>NaN</td>\n",
       "      <td>NaN</td>\n",
       "      <td>NaN</td>\n",
       "      <td>NaN</td>\n",
       "      <td>NaN</td>\n",
       "      <td>NaN</td>\n",
       "      <td>NaN</td>\n",
       "      <td>NaN</td>\n",
       "    </tr>\n",
       "    <tr>\n",
       "      <th>...</th>\n",
       "      <td>...</td>\n",
       "      <td>...</td>\n",
       "      <td>...</td>\n",
       "      <td>...</td>\n",
       "      <td>...</td>\n",
       "      <td>...</td>\n",
       "      <td>...</td>\n",
       "      <td>...</td>\n",
       "      <td>...</td>\n",
       "      <td>...</td>\n",
       "      <td>...</td>\n",
       "      <td>...</td>\n",
       "      <td>...</td>\n",
       "    </tr>\n",
       "    <tr>\n",
       "      <th>88308</th>\n",
       "      <td>NaN</td>\n",
       "      <td>NaN</td>\n",
       "      <td>NaN</td>\n",
       "      <td>NaN</td>\n",
       "      <td>NaN</td>\n",
       "      <td>NaN</td>\n",
       "      <td>NaN</td>\n",
       "      <td>NaN</td>\n",
       "      <td>NaN</td>\n",
       "      <td>NaN</td>\n",
       "      <td>NaN</td>\n",
       "      <td>NaN</td>\n",
       "      <td>NaN</td>\n",
       "    </tr>\n",
       "    <tr>\n",
       "      <th>88309</th>\n",
       "      <td>NaN</td>\n",
       "      <td>NaN</td>\n",
       "      <td>NaN</td>\n",
       "      <td>NaN</td>\n",
       "      <td>NaN</td>\n",
       "      <td>NaN</td>\n",
       "      <td>NaN</td>\n",
       "      <td>NaN</td>\n",
       "      <td>NaN</td>\n",
       "      <td>NaN</td>\n",
       "      <td>NaN</td>\n",
       "      <td>NaN</td>\n",
       "      <td>NaN</td>\n",
       "    </tr>\n",
       "    <tr>\n",
       "      <th>88384</th>\n",
       "      <td>NaN</td>\n",
       "      <td>NaN</td>\n",
       "      <td>NaN</td>\n",
       "      <td>NaN</td>\n",
       "      <td>http://store.steampowered.com/</td>\n",
       "      <td>NaN</td>\n",
       "      <td>NaN</td>\n",
       "      <td>NaN</td>\n",
       "      <td>NaN</td>\n",
       "      <td>19.99</td>\n",
       "      <td>False</td>\n",
       "      <td>NaN</td>\n",
       "      <td>NaN</td>\n",
       "    </tr>\n",
       "    <tr>\n",
       "      <th>102883</th>\n",
       "      <td>Bethesda Softworks</td>\n",
       "      <td>[Action]</td>\n",
       "      <td>Wolfenstein II: The New Colossus</td>\n",
       "      <td>Wolfenstein II: The New Colossus</td>\n",
       "      <td>http://store.steampowered.com/app/612880/Wolfe...</td>\n",
       "      <td>2017-10-26</td>\n",
       "      <td>[Action, FPS, Gore, Violent, Alternate History...</td>\n",
       "      <td>http://steamcommunity.com/app/612880/reviews/?...</td>\n",
       "      <td>[Single-player, Steam Achievements, Full contr...</td>\n",
       "      <td>59.99</td>\n",
       "      <td>False</td>\n",
       "      <td>612880</td>\n",
       "      <td>Machine Games</td>\n",
       "    </tr>\n",
       "    <tr>\n",
       "      <th>119271</th>\n",
       "      <td>Warner Bros. Interactive Entertainment, Feral ...</td>\n",
       "      <td>[Action, Adventure]</td>\n",
       "      <td>Batman: Arkham City - Game of the Year Edition</td>\n",
       "      <td>Batman: Arkham City - Game of the Year Edition</td>\n",
       "      <td>http://store.steampowered.com/app/200260</td>\n",
       "      <td>2012-09-07</td>\n",
       "      <td>[Action, Open World, Batman, Adventure, Stealt...</td>\n",
       "      <td>NaN</td>\n",
       "      <td>[Single-player, Steam Achievements, Steam Trad...</td>\n",
       "      <td>19.99</td>\n",
       "      <td>False</td>\n",
       "      <td>NaN</td>\n",
       "      <td>Rocksteady Studios,Feral Interactive (Mac)</td>\n",
       "    </tr>\n",
       "  </tbody>\n",
       "</table>\n",
       "<p>88312 rows × 13 columns</p>\n",
       "</div>"
      ],
      "text/plain": [
       "                                                publisher  \\\n",
       "1                                                     NaN   \n",
       "2                                                     NaN   \n",
       "3                                                     NaN   \n",
       "4                                                     NaN   \n",
       "5                                                     NaN   \n",
       "...                                                   ...   \n",
       "88308                                                 NaN   \n",
       "88309                                                 NaN   \n",
       "88384                                                 NaN   \n",
       "102883                                 Bethesda Softworks   \n",
       "119271  Warner Bros. Interactive Entertainment, Feral ...   \n",
       "\n",
       "                     genres                                        app_name  \\\n",
       "1                       NaN                                             NaN   \n",
       "2                       NaN                                             NaN   \n",
       "3                       NaN                                             NaN   \n",
       "4                       NaN                                             NaN   \n",
       "5                       NaN                                             NaN   \n",
       "...                     ...                                             ...   \n",
       "88308                   NaN                                             NaN   \n",
       "88309                   NaN                                             NaN   \n",
       "88384                   NaN                                             NaN   \n",
       "102883             [Action]                Wolfenstein II: The New Colossus   \n",
       "119271  [Action, Adventure]  Batman: Arkham City - Game of the Year Edition   \n",
       "\n",
       "                                                 title  \\\n",
       "1                                                  NaN   \n",
       "2                                                  NaN   \n",
       "3                                                  NaN   \n",
       "4                                                  NaN   \n",
       "5                                                  NaN   \n",
       "...                                                ...   \n",
       "88308                                              NaN   \n",
       "88309                                              NaN   \n",
       "88384                                              NaN   \n",
       "102883                Wolfenstein II: The New Colossus   \n",
       "119271  Batman: Arkham City - Game of the Year Edition   \n",
       "\n",
       "                                                      url release_date  \\\n",
       "1                                                     NaN          NaN   \n",
       "2                                                     NaN          NaN   \n",
       "3                                                     NaN          NaN   \n",
       "4                                                     NaN          NaN   \n",
       "5                                                     NaN          NaN   \n",
       "...                                                   ...          ...   \n",
       "88308                                                 NaN          NaN   \n",
       "88309                                                 NaN          NaN   \n",
       "88384                      http://store.steampowered.com/          NaN   \n",
       "102883  http://store.steampowered.com/app/612880/Wolfe...   2017-10-26   \n",
       "119271           http://store.steampowered.com/app/200260   2012-09-07   \n",
       "\n",
       "                                                     tags  \\\n",
       "1                                                     NaN   \n",
       "2                                                     NaN   \n",
       "3                                                     NaN   \n",
       "4                                                     NaN   \n",
       "5                                                     NaN   \n",
       "...                                                   ...   \n",
       "88308                                                 NaN   \n",
       "88309                                                 NaN   \n",
       "88384                                                 NaN   \n",
       "102883  [Action, FPS, Gore, Violent, Alternate History...   \n",
       "119271  [Action, Open World, Batman, Adventure, Stealt...   \n",
       "\n",
       "                                              reviews_url  \\\n",
       "1                                                     NaN   \n",
       "2                                                     NaN   \n",
       "3                                                     NaN   \n",
       "4                                                     NaN   \n",
       "5                                                     NaN   \n",
       "...                                                   ...   \n",
       "88308                                                 NaN   \n",
       "88309                                                 NaN   \n",
       "88384                                                 NaN   \n",
       "102883  http://steamcommunity.com/app/612880/reviews/?...   \n",
       "119271                                                NaN   \n",
       "\n",
       "                                                    specs  price early_access  \\\n",
       "1                                                     NaN    NaN          NaN   \n",
       "2                                                     NaN    NaN          NaN   \n",
       "3                                                     NaN    NaN          NaN   \n",
       "4                                                     NaN    NaN          NaN   \n",
       "5                                                     NaN    NaN          NaN   \n",
       "...                                                   ...    ...          ...   \n",
       "88308                                                 NaN    NaN          NaN   \n",
       "88309                                                 NaN    NaN          NaN   \n",
       "88384                                                 NaN  19.99        False   \n",
       "102883  [Single-player, Steam Achievements, Full contr...  59.99        False   \n",
       "119271  [Single-player, Steam Achievements, Steam Trad...  19.99        False   \n",
       "\n",
       "            id                                   developer  \n",
       "1          NaN                                         NaN  \n",
       "2          NaN                                         NaN  \n",
       "3          NaN                                         NaN  \n",
       "4          NaN                                         NaN  \n",
       "5          NaN                                         NaN  \n",
       "...        ...                                         ...  \n",
       "88308      NaN                                         NaN  \n",
       "88309      NaN                                         NaN  \n",
       "88384      NaN                                         NaN  \n",
       "102883  612880                               Machine Games  \n",
       "119271     NaN  Rocksteady Studios,Feral Interactive (Mac)  \n",
       "\n",
       "[88312 rows x 13 columns]"
      ]
     },
     "execution_count": 89,
     "metadata": {},
     "output_type": "execute_result"
    }
   ],
   "source": [
    "cant_duplicados = steam_games_original[steam_games_original.duplicated(subset=['id'])] #como se puede observar a continuacion, hay 88312 filas x 13 columnas que estan llenas de datos tipo NaN \n",
    "cant_duplicados"
   ]
  },
  {
   "cell_type": "code",
   "execution_count": 90,
   "metadata": {},
   "outputs": [],
   "source": [
    "steam_games = steam_games_original.dropna(how=\"all\").reset_index(drop=True) # lo que hacemos en esta linea, borramos todas las filas que contengan datos nulos en todas sus columnas\n",
    "                                                                            # y por consiguiente restablecemos los indices del dataframe.\n",
    "                                                                            # guardamos el dataframe sin nulos en una nueva variable."
   ]
  },
  {
   "cell_type": "code",
   "execution_count": 91,
   "metadata": {},
   "outputs": [
    {
     "data": {
      "text/plain": [
       "(32135, 13)"
      ]
     },
     "execution_count": 91,
     "metadata": {},
     "output_type": "execute_result"
    }
   ],
   "source": [
    "steam_games.shape #como podemos observar, el nuevo dataframe sin nulos es mucho mas chico, ya que se borraron 88312 filas de datos nulos."
   ]
  },
  {
   "cell_type": "code",
   "execution_count": 92,
   "metadata": {},
   "outputs": [
    {
     "data": {
      "text/html": [
       "<div>\n",
       "<style scoped>\n",
       "    .dataframe tbody tr th:only-of-type {\n",
       "        vertical-align: middle;\n",
       "    }\n",
       "\n",
       "    .dataframe tbody tr th {\n",
       "        vertical-align: top;\n",
       "    }\n",
       "\n",
       "    .dataframe thead th {\n",
       "        text-align: right;\n",
       "    }\n",
       "</style>\n",
       "<table border=\"1\" class=\"dataframe\">\n",
       "  <thead>\n",
       "    <tr style=\"text-align: right;\">\n",
       "      <th></th>\n",
       "      <th>publisher</th>\n",
       "      <th>genres</th>\n",
       "      <th>app_name</th>\n",
       "      <th>title</th>\n",
       "      <th>url</th>\n",
       "      <th>release_date</th>\n",
       "      <th>tags</th>\n",
       "      <th>reviews_url</th>\n",
       "      <th>specs</th>\n",
       "      <th>price</th>\n",
       "      <th>early_access</th>\n",
       "      <th>id</th>\n",
       "      <th>developer</th>\n",
       "    </tr>\n",
       "  </thead>\n",
       "  <tbody>\n",
       "    <tr>\n",
       "      <th>14573</th>\n",
       "      <td>Bethesda Softworks</td>\n",
       "      <td>[Action]</td>\n",
       "      <td>Wolfenstein II: The New Colossus</td>\n",
       "      <td>Wolfenstein II: The New Colossus</td>\n",
       "      <td>http://store.steampowered.com/app/612880/Wolfe...</td>\n",
       "      <td>2017-10-26</td>\n",
       "      <td>[Action, FPS, Gore, Violent, Alternate History...</td>\n",
       "      <td>http://steamcommunity.com/app/612880/reviews/?...</td>\n",
       "      <td>[Single-player, Steam Achievements, Full contr...</td>\n",
       "      <td>59.99</td>\n",
       "      <td>False</td>\n",
       "      <td>612880</td>\n",
       "      <td>Machine Games</td>\n",
       "    </tr>\n",
       "    <tr>\n",
       "      <th>30961</th>\n",
       "      <td>Warner Bros. Interactive Entertainment, Feral ...</td>\n",
       "      <td>[Action, Adventure]</td>\n",
       "      <td>Batman: Arkham City - Game of the Year Edition</td>\n",
       "      <td>Batman: Arkham City - Game of the Year Edition</td>\n",
       "      <td>http://store.steampowered.com/app/200260</td>\n",
       "      <td>2012-09-07</td>\n",
       "      <td>[Action, Open World, Batman, Adventure, Stealt...</td>\n",
       "      <td>NaN</td>\n",
       "      <td>[Single-player, Steam Achievements, Steam Trad...</td>\n",
       "      <td>19.99</td>\n",
       "      <td>False</td>\n",
       "      <td>NaN</td>\n",
       "      <td>Rocksteady Studios,Feral Interactive (Mac)</td>\n",
       "    </tr>\n",
       "  </tbody>\n",
       "</table>\n",
       "</div>"
      ],
      "text/plain": [
       "                                               publisher               genres  \\\n",
       "14573                                 Bethesda Softworks             [Action]   \n",
       "30961  Warner Bros. Interactive Entertainment, Feral ...  [Action, Adventure]   \n",
       "\n",
       "                                             app_name  \\\n",
       "14573                Wolfenstein II: The New Colossus   \n",
       "30961  Batman: Arkham City - Game of the Year Edition   \n",
       "\n",
       "                                                title  \\\n",
       "14573                Wolfenstein II: The New Colossus   \n",
       "30961  Batman: Arkham City - Game of the Year Edition   \n",
       "\n",
       "                                                     url release_date  \\\n",
       "14573  http://store.steampowered.com/app/612880/Wolfe...   2017-10-26   \n",
       "30961           http://store.steampowered.com/app/200260   2012-09-07   \n",
       "\n",
       "                                                    tags  \\\n",
       "14573  [Action, FPS, Gore, Violent, Alternate History...   \n",
       "30961  [Action, Open World, Batman, Adventure, Stealt...   \n",
       "\n",
       "                                             reviews_url  \\\n",
       "14573  http://steamcommunity.com/app/612880/reviews/?...   \n",
       "30961                                                NaN   \n",
       "\n",
       "                                                   specs  price early_access  \\\n",
       "14573  [Single-player, Steam Achievements, Full contr...  59.99        False   \n",
       "30961  [Single-player, Steam Achievements, Steam Trad...  19.99        False   \n",
       "\n",
       "           id                                   developer  \n",
       "14573  612880                               Machine Games  \n",
       "30961     NaN  Rocksteady Studios,Feral Interactive (Mac)  "
      ]
     },
     "execution_count": 92,
     "metadata": {},
     "output_type": "execute_result"
    }
   ],
   "source": [
    "mas_duplicados = steam_games[steam_games.duplicated(subset=['id'])] # una vez que sacamos los valores nulos, nos concentramos en sacar filas que esten duplicadas.\n",
    "mas_duplicados                                                      #como se puede ver, la fila 14573 y la 30961 son duplicadas, por lo cual procedemos a eliminarlas."
   ]
  },
  {
   "cell_type": "code",
   "execution_count": 93,
   "metadata": {},
   "outputs": [],
   "source": [
    "steam_games = steam_games.drop([14573, 30961]) # Eliminamos las filas 14573 y 30961 en especifico."
   ]
  },
  {
   "cell_type": "code",
   "execution_count": 94,
   "metadata": {},
   "outputs": [
    {
     "data": {
      "text/html": [
       "<div>\n",
       "<style scoped>\n",
       "    .dataframe tbody tr th:only-of-type {\n",
       "        vertical-align: middle;\n",
       "    }\n",
       "\n",
       "    .dataframe tbody tr th {\n",
       "        vertical-align: top;\n",
       "    }\n",
       "\n",
       "    .dataframe thead th {\n",
       "        text-align: right;\n",
       "    }\n",
       "</style>\n",
       "<table border=\"1\" class=\"dataframe\">\n",
       "  <thead>\n",
       "    <tr style=\"text-align: right;\">\n",
       "      <th></th>\n",
       "      <th>publisher</th>\n",
       "      <th>genres</th>\n",
       "      <th>app_name</th>\n",
       "      <th>title</th>\n",
       "      <th>url</th>\n",
       "      <th>release_date</th>\n",
       "      <th>tags</th>\n",
       "      <th>reviews_url</th>\n",
       "      <th>specs</th>\n",
       "      <th>price</th>\n",
       "      <th>early_access</th>\n",
       "      <th>id</th>\n",
       "      <th>developer</th>\n",
       "    </tr>\n",
       "  </thead>\n",
       "  <tbody>\n",
       "  </tbody>\n",
       "</table>\n",
       "</div>"
      ],
      "text/plain": [
       "Empty DataFrame\n",
       "Columns: [publisher, genres, app_name, title, url, release_date, tags, reviews_url, specs, price, early_access, id, developer]\n",
       "Index: []"
      ]
     },
     "execution_count": 94,
     "metadata": {},
     "output_type": "execute_result"
    }
   ],
   "source": [
    "mas_duplicados = steam_games[steam_games.duplicated(subset=['id'])] # no quedan duplicados dentro del dataframe. \n",
    "mas_duplicados\n"
   ]
  },
  {
   "cell_type": "code",
   "execution_count": 95,
   "metadata": {},
   "outputs": [],
   "source": [
    "steam_games.drop(columns='title', inplace=True) #eliminamos la columna 'title' ya que contiene los mismos valores que la columna 'app_name'\n"
   ]
  },
  {
   "cell_type": "code",
   "execution_count": 96,
   "metadata": {},
   "outputs": [],
   "source": [
    "steam_games.drop(columns='early_access', inplace=True) # eliminamos la columna 'early_access' ya que no sera util para los modelos propuestos."
   ]
  },
  {
   "cell_type": "code",
   "execution_count": 97,
   "metadata": {},
   "outputs": [],
   "source": [
    "steam_games.drop(columns='url', inplace=True) # eliminamos la columna 'url' ya que no la considero necesaria"
   ]
  },
  {
   "cell_type": "code",
   "execution_count": 98,
   "metadata": {},
   "outputs": [
    {
     "data": {
      "text/html": [
       "<div>\n",
       "<style scoped>\n",
       "    .dataframe tbody tr th:only-of-type {\n",
       "        vertical-align: middle;\n",
       "    }\n",
       "\n",
       "    .dataframe tbody tr th {\n",
       "        vertical-align: top;\n",
       "    }\n",
       "\n",
       "    .dataframe thead th {\n",
       "        text-align: right;\n",
       "    }\n",
       "</style>\n",
       "<table border=\"1\" class=\"dataframe\">\n",
       "  <thead>\n",
       "    <tr style=\"text-align: right;\">\n",
       "      <th></th>\n",
       "      <th>publisher</th>\n",
       "      <th>genres</th>\n",
       "      <th>app_name</th>\n",
       "      <th>release_date</th>\n",
       "      <th>tags</th>\n",
       "      <th>reviews_url</th>\n",
       "      <th>specs</th>\n",
       "      <th>price</th>\n",
       "      <th>id</th>\n",
       "      <th>developer</th>\n",
       "    </tr>\n",
       "  </thead>\n",
       "  <tbody>\n",
       "    <tr>\n",
       "      <th>0</th>\n",
       "      <td>Kotoshiro</td>\n",
       "      <td>[Action, Casual, Indie, Simulation, Strategy]</td>\n",
       "      <td>Lost Summoner Kitty</td>\n",
       "      <td>2018-01-04</td>\n",
       "      <td>[Strategy, Action, Indie, Casual, Simulation]</td>\n",
       "      <td>http://steamcommunity.com/app/761140/reviews/?...</td>\n",
       "      <td>[Single-player]</td>\n",
       "      <td>4.99</td>\n",
       "      <td>761140</td>\n",
       "      <td>Kotoshiro</td>\n",
       "    </tr>\n",
       "    <tr>\n",
       "      <th>1</th>\n",
       "      <td>Making Fun, Inc.</td>\n",
       "      <td>[Free to Play, Indie, RPG, Strategy]</td>\n",
       "      <td>Ironbound</td>\n",
       "      <td>2018-01-04</td>\n",
       "      <td>[Free to Play, Strategy, Indie, RPG, Card Game...</td>\n",
       "      <td>http://steamcommunity.com/app/643980/reviews/?...</td>\n",
       "      <td>[Single-player, Multi-player, Online Multi-Pla...</td>\n",
       "      <td>Free To Play</td>\n",
       "      <td>643980</td>\n",
       "      <td>Secret Level SRL</td>\n",
       "    </tr>\n",
       "    <tr>\n",
       "      <th>2</th>\n",
       "      <td>Poolians.com</td>\n",
       "      <td>[Casual, Free to Play, Indie, Simulation, Sports]</td>\n",
       "      <td>Real Pool 3D - Poolians</td>\n",
       "      <td>2017-07-24</td>\n",
       "      <td>[Free to Play, Simulation, Sports, Casual, Ind...</td>\n",
       "      <td>http://steamcommunity.com/app/670290/reviews/?...</td>\n",
       "      <td>[Single-player, Multi-player, Online Multi-Pla...</td>\n",
       "      <td>Free to Play</td>\n",
       "      <td>670290</td>\n",
       "      <td>Poolians.com</td>\n",
       "    </tr>\n",
       "    <tr>\n",
       "      <th>3</th>\n",
       "      <td>彼岸领域</td>\n",
       "      <td>[Action, Adventure, Casual]</td>\n",
       "      <td>弹炸人2222</td>\n",
       "      <td>2017-12-07</td>\n",
       "      <td>[Action, Adventure, Casual]</td>\n",
       "      <td>http://steamcommunity.com/app/767400/reviews/?...</td>\n",
       "      <td>[Single-player]</td>\n",
       "      <td>0.99</td>\n",
       "      <td>767400</td>\n",
       "      <td>彼岸领域</td>\n",
       "    </tr>\n",
       "    <tr>\n",
       "      <th>4</th>\n",
       "      <td>NaN</td>\n",
       "      <td>NaN</td>\n",
       "      <td>Log Challenge</td>\n",
       "      <td>NaN</td>\n",
       "      <td>[Action, Indie, Casual, Sports]</td>\n",
       "      <td>http://steamcommunity.com/app/773570/reviews/?...</td>\n",
       "      <td>[Single-player, Full controller support, HTC V...</td>\n",
       "      <td>2.99</td>\n",
       "      <td>773570</td>\n",
       "      <td>NaN</td>\n",
       "    </tr>\n",
       "    <tr>\n",
       "      <th>...</th>\n",
       "      <td>...</td>\n",
       "      <td>...</td>\n",
       "      <td>...</td>\n",
       "      <td>...</td>\n",
       "      <td>...</td>\n",
       "      <td>...</td>\n",
       "      <td>...</td>\n",
       "      <td>...</td>\n",
       "      <td>...</td>\n",
       "      <td>...</td>\n",
       "    </tr>\n",
       "    <tr>\n",
       "      <th>32130</th>\n",
       "      <td>Ghost_RUS Games</td>\n",
       "      <td>[Casual, Indie, Simulation, Strategy]</td>\n",
       "      <td>Colony On Mars</td>\n",
       "      <td>2018-01-04</td>\n",
       "      <td>[Strategy, Indie, Casual, Simulation]</td>\n",
       "      <td>http://steamcommunity.com/app/773640/reviews/?...</td>\n",
       "      <td>[Single-player, Steam Achievements]</td>\n",
       "      <td>1.99</td>\n",
       "      <td>773640</td>\n",
       "      <td>Nikita \"Ghost_RUS\"</td>\n",
       "    </tr>\n",
       "    <tr>\n",
       "      <th>32131</th>\n",
       "      <td>Sacada</td>\n",
       "      <td>[Casual, Indie, Strategy]</td>\n",
       "      <td>LOGistICAL: South Africa</td>\n",
       "      <td>2018-01-04</td>\n",
       "      <td>[Strategy, Indie, Casual]</td>\n",
       "      <td>http://steamcommunity.com/app/733530/reviews/?...</td>\n",
       "      <td>[Single-player, Steam Achievements, Steam Clou...</td>\n",
       "      <td>4.99</td>\n",
       "      <td>733530</td>\n",
       "      <td>Sacada</td>\n",
       "    </tr>\n",
       "    <tr>\n",
       "      <th>32132</th>\n",
       "      <td>Laush Studio</td>\n",
       "      <td>[Indie, Racing, Simulation]</td>\n",
       "      <td>Russian Roads</td>\n",
       "      <td>2018-01-04</td>\n",
       "      <td>[Indie, Simulation, Racing]</td>\n",
       "      <td>http://steamcommunity.com/app/610660/reviews/?...</td>\n",
       "      <td>[Single-player, Steam Achievements, Steam Trad...</td>\n",
       "      <td>1.99</td>\n",
       "      <td>610660</td>\n",
       "      <td>Laush Dmitriy Sergeevich</td>\n",
       "    </tr>\n",
       "    <tr>\n",
       "      <th>32133</th>\n",
       "      <td>SIXNAILS</td>\n",
       "      <td>[Casual, Indie]</td>\n",
       "      <td>EXIT 2 - Directions</td>\n",
       "      <td>2017-09-02</td>\n",
       "      <td>[Indie, Casual, Puzzle, Singleplayer, Atmosphe...</td>\n",
       "      <td>http://steamcommunity.com/app/658870/reviews/?...</td>\n",
       "      <td>[Single-player, Steam Achievements, Steam Cloud]</td>\n",
       "      <td>4.99</td>\n",
       "      <td>658870</td>\n",
       "      <td>xropi,stev3ns</td>\n",
       "    </tr>\n",
       "    <tr>\n",
       "      <th>32134</th>\n",
       "      <td>NaN</td>\n",
       "      <td>NaN</td>\n",
       "      <td>Maze Run VR</td>\n",
       "      <td>NaN</td>\n",
       "      <td>[Early Access, Adventure, Indie, Action, Simul...</td>\n",
       "      <td>http://steamcommunity.com/app/681550/reviews/?...</td>\n",
       "      <td>[Single-player, Stats, Steam Leaderboards, HTC...</td>\n",
       "      <td>4.99</td>\n",
       "      <td>681550</td>\n",
       "      <td>NaN</td>\n",
       "    </tr>\n",
       "  </tbody>\n",
       "</table>\n",
       "<p>32133 rows × 10 columns</p>\n",
       "</div>"
      ],
      "text/plain": [
       "              publisher                                             genres  \\\n",
       "0             Kotoshiro      [Action, Casual, Indie, Simulation, Strategy]   \n",
       "1      Making Fun, Inc.               [Free to Play, Indie, RPG, Strategy]   \n",
       "2          Poolians.com  [Casual, Free to Play, Indie, Simulation, Sports]   \n",
       "3                  彼岸领域                        [Action, Adventure, Casual]   \n",
       "4                   NaN                                                NaN   \n",
       "...                 ...                                                ...   \n",
       "32130   Ghost_RUS Games              [Casual, Indie, Simulation, Strategy]   \n",
       "32131            Sacada                          [Casual, Indie, Strategy]   \n",
       "32132      Laush Studio                        [Indie, Racing, Simulation]   \n",
       "32133          SIXNAILS                                    [Casual, Indie]   \n",
       "32134               NaN                                                NaN   \n",
       "\n",
       "                       app_name release_date  \\\n",
       "0           Lost Summoner Kitty   2018-01-04   \n",
       "1                     Ironbound   2018-01-04   \n",
       "2       Real Pool 3D - Poolians   2017-07-24   \n",
       "3                       弹炸人2222   2017-12-07   \n",
       "4                 Log Challenge          NaN   \n",
       "...                         ...          ...   \n",
       "32130            Colony On Mars   2018-01-04   \n",
       "32131  LOGistICAL: South Africa   2018-01-04   \n",
       "32132             Russian Roads   2018-01-04   \n",
       "32133       EXIT 2 - Directions   2017-09-02   \n",
       "32134               Maze Run VR          NaN   \n",
       "\n",
       "                                                    tags  \\\n",
       "0          [Strategy, Action, Indie, Casual, Simulation]   \n",
       "1      [Free to Play, Strategy, Indie, RPG, Card Game...   \n",
       "2      [Free to Play, Simulation, Sports, Casual, Ind...   \n",
       "3                            [Action, Adventure, Casual]   \n",
       "4                        [Action, Indie, Casual, Sports]   \n",
       "...                                                  ...   \n",
       "32130              [Strategy, Indie, Casual, Simulation]   \n",
       "32131                          [Strategy, Indie, Casual]   \n",
       "32132                        [Indie, Simulation, Racing]   \n",
       "32133  [Indie, Casual, Puzzle, Singleplayer, Atmosphe...   \n",
       "32134  [Early Access, Adventure, Indie, Action, Simul...   \n",
       "\n",
       "                                             reviews_url  \\\n",
       "0      http://steamcommunity.com/app/761140/reviews/?...   \n",
       "1      http://steamcommunity.com/app/643980/reviews/?...   \n",
       "2      http://steamcommunity.com/app/670290/reviews/?...   \n",
       "3      http://steamcommunity.com/app/767400/reviews/?...   \n",
       "4      http://steamcommunity.com/app/773570/reviews/?...   \n",
       "...                                                  ...   \n",
       "32130  http://steamcommunity.com/app/773640/reviews/?...   \n",
       "32131  http://steamcommunity.com/app/733530/reviews/?...   \n",
       "32132  http://steamcommunity.com/app/610660/reviews/?...   \n",
       "32133  http://steamcommunity.com/app/658870/reviews/?...   \n",
       "32134  http://steamcommunity.com/app/681550/reviews/?...   \n",
       "\n",
       "                                                   specs         price  \\\n",
       "0                                        [Single-player]          4.99   \n",
       "1      [Single-player, Multi-player, Online Multi-Pla...  Free To Play   \n",
       "2      [Single-player, Multi-player, Online Multi-Pla...  Free to Play   \n",
       "3                                        [Single-player]          0.99   \n",
       "4      [Single-player, Full controller support, HTC V...          2.99   \n",
       "...                                                  ...           ...   \n",
       "32130                [Single-player, Steam Achievements]          1.99   \n",
       "32131  [Single-player, Steam Achievements, Steam Clou...          4.99   \n",
       "32132  [Single-player, Steam Achievements, Steam Trad...          1.99   \n",
       "32133   [Single-player, Steam Achievements, Steam Cloud]          4.99   \n",
       "32134  [Single-player, Stats, Steam Leaderboards, HTC...          4.99   \n",
       "\n",
       "           id                 developer  \n",
       "0      761140                 Kotoshiro  \n",
       "1      643980          Secret Level SRL  \n",
       "2      670290              Poolians.com  \n",
       "3      767400                      彼岸领域  \n",
       "4      773570                       NaN  \n",
       "...       ...                       ...  \n",
       "32130  773640        Nikita \"Ghost_RUS\"  \n",
       "32131  733530                    Sacada  \n",
       "32132  610660  Laush Dmitriy Sergeevich  \n",
       "32133  658870             xropi,stev3ns  \n",
       "32134  681550                       NaN  \n",
       "\n",
       "[32133 rows x 10 columns]"
      ]
     },
     "execution_count": 98,
     "metadata": {},
     "output_type": "execute_result"
    }
   ],
   "source": [
    "steam_games"
   ]
  },
  {
   "cell_type": "markdown",
   "metadata": {},
   "source": [
    "Transformacion de los datos"
   ]
  },
  {
   "cell_type": "code",
   "execution_count": 99,
   "metadata": {},
   "outputs": [
    {
     "data": {
      "text/plain": [
       "publisher       object\n",
       "genres          object\n",
       "app_name        object\n",
       "release_date    object\n",
       "tags            object\n",
       "reviews_url     object\n",
       "specs           object\n",
       "price           object\n",
       "id              object\n",
       "developer       object\n",
       "dtype: object"
      ]
     },
     "execution_count": 99,
     "metadata": {},
     "output_type": "execute_result"
    }
   ],
   "source": [
    "steam_games.dtypes # Antes que nada, tenemos que ver que tipo de datos tenemos.\n",
    "                   # tal cual podemos observar, todos los datos son de tipo 'object', esto se debe a que los datos provienen de un archivo json\n",
    "                   # el proximo paso, es desanidar estos datos, ya que lo mas seguro es que contengan un formato del tipo key-value. "
   ]
  },
  {
   "cell_type": "code",
   "execution_count": 100,
   "metadata": {},
   "outputs": [
    {
     "data": {
      "text/html": [
       "<div>\n",
       "<style scoped>\n",
       "    .dataframe tbody tr th:only-of-type {\n",
       "        vertical-align: middle;\n",
       "    }\n",
       "\n",
       "    .dataframe tbody tr th {\n",
       "        vertical-align: top;\n",
       "    }\n",
       "\n",
       "    .dataframe thead th {\n",
       "        text-align: right;\n",
       "    }\n",
       "</style>\n",
       "<table border=\"1\" class=\"dataframe\">\n",
       "  <thead>\n",
       "    <tr style=\"text-align: right;\">\n",
       "      <th></th>\n",
       "      <th>columna</th>\n",
       "      <th>tipos_de_datos</th>\n",
       "    </tr>\n",
       "  </thead>\n",
       "  <tbody>\n",
       "    <tr>\n",
       "      <th>0</th>\n",
       "      <td>publisher</td>\n",
       "      <td>[&lt;class 'str'&gt;, &lt;class 'float'&gt;]</td>\n",
       "    </tr>\n",
       "    <tr>\n",
       "      <th>1</th>\n",
       "      <td>genres</td>\n",
       "      <td>[&lt;class 'list'&gt;, &lt;class 'float'&gt;]</td>\n",
       "    </tr>\n",
       "    <tr>\n",
       "      <th>2</th>\n",
       "      <td>app_name</td>\n",
       "      <td>[&lt;class 'str'&gt;, &lt;class 'float'&gt;]</td>\n",
       "    </tr>\n",
       "    <tr>\n",
       "      <th>3</th>\n",
       "      <td>release_date</td>\n",
       "      <td>[&lt;class 'str'&gt;, &lt;class 'float'&gt;]</td>\n",
       "    </tr>\n",
       "    <tr>\n",
       "      <th>4</th>\n",
       "      <td>tags</td>\n",
       "      <td>[&lt;class 'list'&gt;, &lt;class 'float'&gt;]</td>\n",
       "    </tr>\n",
       "    <tr>\n",
       "      <th>5</th>\n",
       "      <td>reviews_url</td>\n",
       "      <td>[&lt;class 'str'&gt;, &lt;class 'float'&gt;]</td>\n",
       "    </tr>\n",
       "    <tr>\n",
       "      <th>6</th>\n",
       "      <td>specs</td>\n",
       "      <td>[&lt;class 'list'&gt;, &lt;class 'float'&gt;]</td>\n",
       "    </tr>\n",
       "    <tr>\n",
       "      <th>7</th>\n",
       "      <td>price</td>\n",
       "      <td>[&lt;class 'float'&gt;, &lt;class 'str'&gt;]</td>\n",
       "    </tr>\n",
       "    <tr>\n",
       "      <th>8</th>\n",
       "      <td>id</td>\n",
       "      <td>[&lt;class 'str'&gt;, &lt;class 'float'&gt;]</td>\n",
       "    </tr>\n",
       "    <tr>\n",
       "      <th>9</th>\n",
       "      <td>developer</td>\n",
       "      <td>[&lt;class 'str'&gt;, &lt;class 'float'&gt;]</td>\n",
       "    </tr>\n",
       "  </tbody>\n",
       "</table>\n",
       "</div>"
      ],
      "text/plain": [
       "        columna                     tipos_de_datos\n",
       "0     publisher   [<class 'str'>, <class 'float'>]\n",
       "1        genres  [<class 'list'>, <class 'float'>]\n",
       "2      app_name   [<class 'str'>, <class 'float'>]\n",
       "3  release_date   [<class 'str'>, <class 'float'>]\n",
       "4          tags  [<class 'list'>, <class 'float'>]\n",
       "5   reviews_url   [<class 'str'>, <class 'float'>]\n",
       "6         specs  [<class 'list'>, <class 'float'>]\n",
       "7         price   [<class 'float'>, <class 'str'>]\n",
       "8            id   [<class 'str'>, <class 'float'>]\n",
       "9     developer   [<class 'str'>, <class 'float'>]"
      ]
     },
     "execution_count": 100,
     "metadata": {},
     "output_type": "execute_result"
    }
   ],
   "source": [
    "tipo_data = {\"columna\":[],\"tipos_de_datos\":[]} # creamos un diccionario vacio\n",
    "\n",
    "for columna in steam_games.columns: # iteramos por las columnas del dataframe \n",
    "    tipo_data[\"columna\"].append(columna) # cada columna dentro del df, se llamara columna.\n",
    "    tipo_data[\"tipos_de_datos\"].append(steam_games[columna].apply(type).unique()) # el dato que contenga cada columna, se agrega como tipos_de_datos\n",
    "\n",
    "analisis_dtype= pd.DataFrame(tipo_data) # convertimos el diccionario en un dataframe para \n",
    "analisis_dtype"
   ]
  },
  {
   "cell_type": "code",
   "execution_count": 101,
   "metadata": {},
   "outputs": [],
   "source": [
    "#luego de ver el analisis_dtype, saco la conclusion que seria mejor cambiar el tipo_de_datos de varias columnas. \n",
    "#En principio, empezaremos con la columna 'id'. notese que primero hay que eliminar las filas con valores nulos, de lo contrario no lo podremos hacer.\n",
    "\n",
    "steam_games = steam_games.drop(steam_games.loc[steam_games['id'].isna()].index) # Eliminamos datos nulos de las filas, los cuales no tienen relevancia.\n",
    "\n",
    "steam_games['id'] = steam_games['id'].astype(str) # Realizamos una conversion en el tipo_de_dato de la columna 'id' a str.\n",
    "\n",
    "#renombramos 'id' por 'item_id'\n",
    "steam_games = steam_games.rename(columns={'id': 'item_id'})\n"
   ]
  },
  {
   "cell_type": "code",
   "execution_count": 102,
   "metadata": {},
   "outputs": [
    {
     "data": {
      "text/plain": [
       "0        2018-01-04\n",
       "1        2018-01-04\n",
       "2        2017-07-24\n",
       "3        2017-12-07\n",
       "4               NaN\n",
       "            ...    \n",
       "32130    2018-01-04\n",
       "32131    2018-01-04\n",
       "32132    2018-01-04\n",
       "32133    2017-09-02\n",
       "32134           NaN\n",
       "Name: release_date, Length: 32132, dtype: object"
      ]
     },
     "execution_count": 102,
     "metadata": {},
     "output_type": "execute_result"
    }
   ],
   "source": [
    "# Proseguimos con la columna 'release_date', la cual tiene una notacion 'YYYY-MM-DD' como podemos ver a continuacion\n",
    "steam_games['release_date']"
   ]
  },
  {
   "cell_type": "code",
   "execution_count": 103,
   "metadata": {},
   "outputs": [
    {
     "data": {
      "text/plain": [
       "2066"
      ]
     },
     "execution_count": 103,
     "metadata": {},
     "output_type": "execute_result"
    }
   ],
   "source": [
    "steam_games['release_date'].isnull().sum()"
   ]
  },
  {
   "cell_type": "code",
   "execution_count": 104,
   "metadata": {},
   "outputs": [],
   "source": [
    "#convertimos esta columna a datetime\n",
    "steam_games['release_date'] = pd.to_datetime(steam_games['release_date'], errors='coerce')"
   ]
  },
  {
   "cell_type": "code",
   "execution_count": 105,
   "metadata": {},
   "outputs": [],
   "source": [
    "# Calculamos la fecha media, con el proposito de reemplazar los nulos con la media.\n",
    "mean_date = steam_games['release_date'].mean()\n",
    "#ahora reemplazamos los nulos por la media\n",
    "steam_games['release_date'].fillna(mean_date, inplace=True)"
   ]
  },
  {
   "cell_type": "code",
   "execution_count": 106,
   "metadata": {},
   "outputs": [
    {
     "data": {
      "text/plain": [
       "0"
      ]
     },
     "execution_count": 106,
     "metadata": {},
     "output_type": "execute_result"
    }
   ],
   "source": [
    "steam_games['release_date'].isnull().sum() #Comprobamos que efectivamente ya no hay nulos."
   ]
  },
  {
   "cell_type": "code",
   "execution_count": 107,
   "metadata": {},
   "outputs": [
    {
     "data": {
      "text/html": [
       "<div>\n",
       "<style scoped>\n",
       "    .dataframe tbody tr th:only-of-type {\n",
       "        vertical-align: middle;\n",
       "    }\n",
       "\n",
       "    .dataframe tbody tr th {\n",
       "        vertical-align: top;\n",
       "    }\n",
       "\n",
       "    .dataframe thead th {\n",
       "        text-align: right;\n",
       "    }\n",
       "</style>\n",
       "<table border=\"1\" class=\"dataframe\">\n",
       "  <thead>\n",
       "    <tr style=\"text-align: right;\">\n",
       "      <th></th>\n",
       "      <th>publisher</th>\n",
       "      <th>genres</th>\n",
       "      <th>app_name</th>\n",
       "      <th>release_date</th>\n",
       "      <th>tags</th>\n",
       "      <th>reviews_url</th>\n",
       "      <th>specs</th>\n",
       "      <th>price</th>\n",
       "      <th>item_id</th>\n",
       "      <th>developer</th>\n",
       "      <th>release_year</th>\n",
       "    </tr>\n",
       "  </thead>\n",
       "  <tbody>\n",
       "    <tr>\n",
       "      <th>0</th>\n",
       "      <td>Kotoshiro</td>\n",
       "      <td>[Action, Casual, Indie, Simulation, Strategy]</td>\n",
       "      <td>Lost Summoner Kitty</td>\n",
       "      <td>2018-01-04 00:00:00.000000000</td>\n",
       "      <td>[Strategy, Action, Indie, Casual, Simulation]</td>\n",
       "      <td>http://steamcommunity.com/app/761140/reviews/?...</td>\n",
       "      <td>[Single-player]</td>\n",
       "      <td>4.99</td>\n",
       "      <td>761140</td>\n",
       "      <td>Kotoshiro</td>\n",
       "      <td>2018</td>\n",
       "    </tr>\n",
       "    <tr>\n",
       "      <th>1</th>\n",
       "      <td>Making Fun, Inc.</td>\n",
       "      <td>[Free to Play, Indie, RPG, Strategy]</td>\n",
       "      <td>Ironbound</td>\n",
       "      <td>2018-01-04 00:00:00.000000000</td>\n",
       "      <td>[Free to Play, Strategy, Indie, RPG, Card Game...</td>\n",
       "      <td>http://steamcommunity.com/app/643980/reviews/?...</td>\n",
       "      <td>[Single-player, Multi-player, Online Multi-Pla...</td>\n",
       "      <td>Free To Play</td>\n",
       "      <td>643980</td>\n",
       "      <td>Secret Level SRL</td>\n",
       "      <td>2018</td>\n",
       "    </tr>\n",
       "    <tr>\n",
       "      <th>2</th>\n",
       "      <td>Poolians.com</td>\n",
       "      <td>[Casual, Free to Play, Indie, Simulation, Sports]</td>\n",
       "      <td>Real Pool 3D - Poolians</td>\n",
       "      <td>2017-07-24 00:00:00.000000000</td>\n",
       "      <td>[Free to Play, Simulation, Sports, Casual, Ind...</td>\n",
       "      <td>http://steamcommunity.com/app/670290/reviews/?...</td>\n",
       "      <td>[Single-player, Multi-player, Online Multi-Pla...</td>\n",
       "      <td>Free to Play</td>\n",
       "      <td>670290</td>\n",
       "      <td>Poolians.com</td>\n",
       "      <td>2017</td>\n",
       "    </tr>\n",
       "    <tr>\n",
       "      <th>3</th>\n",
       "      <td>彼岸领域</td>\n",
       "      <td>[Action, Adventure, Casual]</td>\n",
       "      <td>弹炸人2222</td>\n",
       "      <td>2017-12-07 00:00:00.000000000</td>\n",
       "      <td>[Action, Adventure, Casual]</td>\n",
       "      <td>http://steamcommunity.com/app/767400/reviews/?...</td>\n",
       "      <td>[Single-player]</td>\n",
       "      <td>0.99</td>\n",
       "      <td>767400</td>\n",
       "      <td>彼岸领域</td>\n",
       "      <td>2017</td>\n",
       "    </tr>\n",
       "    <tr>\n",
       "      <th>4</th>\n",
       "      <td>NaN</td>\n",
       "      <td>NaN</td>\n",
       "      <td>Log Challenge</td>\n",
       "      <td>2015-04-21 10:04:45.040797952</td>\n",
       "      <td>[Action, Indie, Casual, Sports]</td>\n",
       "      <td>http://steamcommunity.com/app/773570/reviews/?...</td>\n",
       "      <td>[Single-player, Full controller support, HTC V...</td>\n",
       "      <td>2.99</td>\n",
       "      <td>773570</td>\n",
       "      <td>NaN</td>\n",
       "      <td>2015</td>\n",
       "    </tr>\n",
       "  </tbody>\n",
       "</table>\n",
       "</div>"
      ],
      "text/plain": [
       "          publisher                                             genres  \\\n",
       "0         Kotoshiro      [Action, Casual, Indie, Simulation, Strategy]   \n",
       "1  Making Fun, Inc.               [Free to Play, Indie, RPG, Strategy]   \n",
       "2      Poolians.com  [Casual, Free to Play, Indie, Simulation, Sports]   \n",
       "3              彼岸领域                        [Action, Adventure, Casual]   \n",
       "4               NaN                                                NaN   \n",
       "\n",
       "                  app_name                  release_date  \\\n",
       "0      Lost Summoner Kitty 2018-01-04 00:00:00.000000000   \n",
       "1                Ironbound 2018-01-04 00:00:00.000000000   \n",
       "2  Real Pool 3D - Poolians 2017-07-24 00:00:00.000000000   \n",
       "3                  弹炸人2222 2017-12-07 00:00:00.000000000   \n",
       "4            Log Challenge 2015-04-21 10:04:45.040797952   \n",
       "\n",
       "                                                tags  \\\n",
       "0      [Strategy, Action, Indie, Casual, Simulation]   \n",
       "1  [Free to Play, Strategy, Indie, RPG, Card Game...   \n",
       "2  [Free to Play, Simulation, Sports, Casual, Ind...   \n",
       "3                        [Action, Adventure, Casual]   \n",
       "4                    [Action, Indie, Casual, Sports]   \n",
       "\n",
       "                                         reviews_url  \\\n",
       "0  http://steamcommunity.com/app/761140/reviews/?...   \n",
       "1  http://steamcommunity.com/app/643980/reviews/?...   \n",
       "2  http://steamcommunity.com/app/670290/reviews/?...   \n",
       "3  http://steamcommunity.com/app/767400/reviews/?...   \n",
       "4  http://steamcommunity.com/app/773570/reviews/?...   \n",
       "\n",
       "                                               specs         price item_id  \\\n",
       "0                                    [Single-player]          4.99  761140   \n",
       "1  [Single-player, Multi-player, Online Multi-Pla...  Free To Play  643980   \n",
       "2  [Single-player, Multi-player, Online Multi-Pla...  Free to Play  670290   \n",
       "3                                    [Single-player]          0.99  767400   \n",
       "4  [Single-player, Full controller support, HTC V...          2.99  773570   \n",
       "\n",
       "          developer  release_year  \n",
       "0         Kotoshiro          2018  \n",
       "1  Secret Level SRL          2018  \n",
       "2      Poolians.com          2017  \n",
       "3              彼岸领域          2017  \n",
       "4               NaN          2015  "
      ]
     },
     "execution_count": 107,
     "metadata": {},
     "output_type": "execute_result"
    }
   ],
   "source": [
    "#Ahora preseguimos a tomar el año de la columna 'release_date' para hacer una nueva columna 'release_year'\n",
    "steam_games['release_year'] = steam_games['release_date'].dt.year\n",
    "steam_games.head()"
   ]
  },
  {
   "cell_type": "code",
   "execution_count": 108,
   "metadata": {},
   "outputs": [],
   "source": [
    "#Como ya tenemos la columna 'release_year', procedemos a eliminar la columna 'release_date'\n",
    "steam_games = steam_games.drop('release_date', axis=1)"
   ]
  },
  {
   "cell_type": "code",
   "execution_count": 109,
   "metadata": {},
   "outputs": [],
   "source": [
    "#El proximo paso es sobre la columna 'genres' y 'tags', ya que ambas columnas comparten algunos datos. \n",
    "#Vamos a completar los valores faltantes de la columna 'tags' con los valores de la columna 'genres'\n",
    "filas_vacias = steam_games['tags'].isna() #Guardamos las filas con valores NaN en tags\n",
    "steam_games.loc[filas_vacias, 'tags'] = steam_games.loc[filas_vacias, 'genres'] # Asignamos los valores de la columna genres dentro de la columna tags"
   ]
  },
  {
   "cell_type": "code",
   "execution_count": 110,
   "metadata": {},
   "outputs": [
    {
     "data": {
      "text/plain": [
       "['Action', 'Adventure', 'Simulation']"
      ]
     },
     "execution_count": 110,
     "metadata": {},
     "output_type": "execute_result"
    }
   ],
   "source": [
    "#Proseguimos con la columna 'genres', vamos a tomar un campo al azar para ver como estan distribuidos los datos.\n",
    "steam_games['genres'][5]"
   ]
  },
  {
   "cell_type": "code",
   "execution_count": 111,
   "metadata": {},
   "outputs": [
    {
     "data": {
      "text/plain": [
       "3282"
      ]
     },
     "execution_count": 111,
     "metadata": {},
     "output_type": "execute_result"
    }
   ],
   "source": [
    "#vemos cuantos nulos hay dentro de la columna 'genre'\n",
    "steam_games['genres'].isnull().sum()"
   ]
  },
  {
   "cell_type": "code",
   "execution_count": 112,
   "metadata": {},
   "outputs": [
    {
     "data": {
      "text/plain": [
       "genres\n",
       "[Action]                                                          1879\n",
       "[Action, Indie]                                                   1650\n",
       "[Simulation]                                                      1396\n",
       "[Casual, Simulation]                                              1359\n",
       "[Action, Adventure, Indie]                                        1082\n",
       "                                                                  ... \n",
       "[Action, Adventure, Racing, Simulation, Strategy]                    1\n",
       "[Action, Adventure, Casual, Indie, Racing, Sports, Strategy]         1\n",
       "[Action, Adventure, Casual, Indie, Racing, Simulation, Sports]       1\n",
       "[Action, Massively Multiplayer, RPG, Strategy]                       1\n",
       "[Adventure, Casual, RPG, Simulation, Early Access]                   1\n",
       "Name: count, Length: 883, dtype: int64"
      ]
     },
     "execution_count": 112,
     "metadata": {},
     "output_type": "execute_result"
    }
   ],
   "source": [
    "steam_games['genres'].value_counts() #vemos la cantidad de valores para cada genero"
   ]
  },
  {
   "cell_type": "code",
   "execution_count": 113,
   "metadata": {},
   "outputs": [],
   "source": [
    "#como podemos observar, en la columna 'genres' hay varios generos que estan anidados en una lista.\n",
    "#Vamos a hacer una funcion con la finalidad de limpiar esta columna y rellenar estas listas solo con el primer valor\n",
    "#En el caso de los nulos, los clasificaremos como 'pending classification', para luego trabajarlos.\n",
    "def clean_genres(genres):\n",
    "    if isinstance(genres, list):\n",
    "        return genres[0]\n",
    "    elif isinstance(genres, str):\n",
    "        return genres\n",
    "    else:\n",
    "        return 'Pending classification'"
   ]
  },
  {
   "cell_type": "code",
   "execution_count": 114,
   "metadata": {},
   "outputs": [],
   "source": [
    "#usamos la funcion en la columna 'genres' y crearemos una nueva columna que contenga los datos de forma mas ordenada\n",
    "steam_games['clean_genres'] = steam_games['genres'].apply(clean_genres)"
   ]
  },
  {
   "cell_type": "code",
   "execution_count": 115,
   "metadata": {},
   "outputs": [
    {
     "data": {
      "text/plain": [
       "clean_genres\n",
       "Action                       11316\n",
       "Casual                        4340\n",
       "Adventure                     4328\n",
       "Indie                         3299\n",
       "Pending classification        3282\n",
       "Simulation                    1852\n",
       "Strategy                      1143\n",
       "RPG                            685\n",
       "Free to Play                   523\n",
       "Racing                         454\n",
       "Design &amp; Illustration      327\n",
       "Animation &amp; Modeling       179\n",
       "Utilities                       93\n",
       "Audio Production                84\n",
       "Sports                          63\n",
       "Massively Multiplayer           49\n",
       "Education                       46\n",
       "Video Production                21\n",
       "Software Training               21\n",
       "Web Publishing                   8\n",
       "Photo Editing                    8\n",
       "Accounting                       7\n",
       "Early Access                     4\n",
       "Name: count, dtype: int64"
      ]
     },
     "execution_count": 115,
     "metadata": {},
     "output_type": "execute_result"
    }
   ],
   "source": [
    "#verificamos como quedaron los generos\n",
    "steam_games['clean_genres'].value_counts()"
   ]
  },
  {
   "cell_type": "markdown",
   "metadata": {},
   "source": [
    " Como podemos ver, Pending classification son los valores nulos y esta entre los primeros generos con mas datos. Para evitar borrar esos datos que representan un valor considerable, implementaremos una clase que contenga funciones para los generos mas representativos. Dichas funciones recorreran la columna 'clean_genres' y en caso de encontrar un valor = 'pending classification', se reemplazara por un genero que corresponda de la columna 'tags'"
   ]
  },
  {
   "cell_type": "code",
   "execution_count": 116,
   "metadata": {},
   "outputs": [],
   "source": [
    "class GenreClassifier:\n",
    "    def replace_pending_with_action(self, row):\n",
    "        if row['clean_genres'] == 'Pending classification':\n",
    "            if isinstance(row['tags'], list):\n",
    "                if 'Action' in row['tags']:\n",
    "                    return 'Action'\n",
    "        return row['clean_genres']\n",
    "\n",
    "    def replace_pending_with_indie(self, row):\n",
    "        if row['clean_genres'] == 'Pending classification':\n",
    "            if isinstance(row['tags'], list):\n",
    "                if 'Indie' in row['tags']:\n",
    "                    return 'Indie'\n",
    "        return row['clean_genres']\n",
    "\n",
    "    def replace_pending_with_casual(self, row):\n",
    "        if row['clean_genres'] == 'Pending classification':\n",
    "            if isinstance(row['tags'], list):\n",
    "                if 'Casual' in row['tags']:\n",
    "                    return 'Casual'\n",
    "        return row['clean_genres']\n",
    "\n",
    "    def replace_pending_with_adventure(self, row):\n",
    "        if row['clean_genres'] == 'Pending classification':\n",
    "            if isinstance(row['tags'], list):\n",
    "                if 'Adventure' in row['tags']:\n",
    "                    return 'Adventure'\n",
    "        return row['clean_genres']\n",
    "\n",
    "    def replace_pending_with_strategy(self, row):\n",
    "        if row['clean_genres'] == 'Pending classification':\n",
    "            if isinstance(row['tags'], list):\n",
    "                if 'Strategy' in row['tags']:\n",
    "                    return 'Strategy'\n",
    "        return row['clean_genres']\n",
    "\n",
    "    def replace_pending_with_rpg(self, row):\n",
    "        if row['clean_genres'] == 'Pending classification':\n",
    "            if isinstance(row['tags'], list):\n",
    "                if 'RPG' in row['tags']:\n",
    "                    return 'RPG'\n",
    "        return row['clean_genres']\n",
    "\n",
    "    def replace_pending_with_simulation(self, row):\n",
    "        if row['clean_genres'] == 'Pending classification':\n",
    "            if isinstance(row['tags'], list):\n",
    "                if 'Simulation' in row['tags']:\n",
    "                    return 'Simulation'\n",
    "        return row['clean_genres']\n",
    "\n",
    "    def replace_pending_with_free_to_play(self, row):\n",
    "        if row['clean_genres'] == 'Pending classification':\n",
    "            if isinstance(row['tags'], list):\n",
    "                if 'Free to Play' in row['tags']:\n",
    "                    return 'Free to Play'\n",
    "        return row['clean_genres']"
   ]
  },
  {
   "cell_type": "code",
   "execution_count": 117,
   "metadata": {},
   "outputs": [],
   "source": [
    "# Creamos una instancia de la clase\n",
    "genre_classifier = GenreClassifier()"
   ]
  },
  {
   "cell_type": "code",
   "execution_count": 118,
   "metadata": {},
   "outputs": [],
   "source": [
    "#Aplicamos las funciones a la columna 'clean_genres'\n",
    "steam_games['clean_genres'] = steam_games.apply(genre_classifier.replace_pending_with_action, axis=1)"
   ]
  },
  {
   "cell_type": "code",
   "execution_count": 119,
   "metadata": {},
   "outputs": [],
   "source": [
    "steam_games['clean_genres'] = steam_games.apply(genre_classifier.replace_pending_with_indie, axis=1)"
   ]
  },
  {
   "cell_type": "code",
   "execution_count": 120,
   "metadata": {},
   "outputs": [],
   "source": [
    "steam_games['clean_genres'] = steam_games.apply(genre_classifier.replace_pending_with_casual, axis=1)"
   ]
  },
  {
   "cell_type": "code",
   "execution_count": 121,
   "metadata": {},
   "outputs": [],
   "source": [
    "steam_games['clean_genres'] = steam_games.apply(genre_classifier.replace_pending_with_adventure, axis=1)"
   ]
  },
  {
   "cell_type": "code",
   "execution_count": 122,
   "metadata": {},
   "outputs": [],
   "source": [
    "steam_games['clean_genres'] = steam_games.apply(genre_classifier.replace_pending_with_strategy, axis=1)"
   ]
  },
  {
   "cell_type": "code",
   "execution_count": 123,
   "metadata": {},
   "outputs": [],
   "source": [
    "steam_games['clean_genres'] = steam_games.apply(genre_classifier.replace_pending_with_rpg, axis=1)"
   ]
  },
  {
   "cell_type": "code",
   "execution_count": 124,
   "metadata": {},
   "outputs": [],
   "source": [
    "steam_games['clean_genres'] = steam_games.apply(genre_classifier.replace_pending_with_simulation, axis=1)"
   ]
  },
  {
   "cell_type": "code",
   "execution_count": 125,
   "metadata": {},
   "outputs": [],
   "source": [
    "steam_games['clean_genres'] = steam_games.apply(genre_classifier.replace_pending_with_free_to_play, axis=1)"
   ]
  },
  {
   "cell_type": "code",
   "execution_count": 126,
   "metadata": {},
   "outputs": [
    {
     "data": {
      "text/plain": [
       "clean_genres\n",
       "Action                       12428\n",
       "Casual                        4528\n",
       "Adventure                     4386\n",
       "Indie                         3906\n",
       "Simulation                    1927\n",
       "Pending classification        1206\n",
       "Strategy                      1152\n",
       "RPG                            693\n",
       "Free to Play                   542\n",
       "Racing                         454\n",
       "Design &amp; Illustration      327\n",
       "Animation &amp; Modeling       179\n",
       "Utilities                       93\n",
       "Audio Production                84\n",
       "Sports                          63\n",
       "Massively Multiplayer           49\n",
       "Education                       46\n",
       "Video Production                21\n",
       "Software Training               21\n",
       "Web Publishing                   8\n",
       "Photo Editing                    8\n",
       "Accounting                       7\n",
       "Early Access                     4\n",
       "Name: count, dtype: int64"
      ]
     },
     "execution_count": 126,
     "metadata": {},
     "output_type": "execute_result"
    }
   ],
   "source": [
    "#Una vez implementadas las funciones, volvemos a ver los valores de la columna 'clean_genres'\n",
    "steam_games['clean_genres'].value_counts()"
   ]
  },
  {
   "cell_type": "code",
   "execution_count": 127,
   "metadata": {},
   "outputs": [],
   "source": [
    "#Ya que la nueva columna 'clean_genres' es una transformacion de la columna original 'genres', borramos esta ultima.\n",
    "steam_games = steam_games.drop('genres', axis=1)"
   ]
  },
  {
   "cell_type": "code",
   "execution_count": 128,
   "metadata": {},
   "outputs": [],
   "source": [
    "#para que no haya confucion, cambiamos el nombre de la columna 'clean_genres' por 'genres'\n",
    "steam_games = steam_games.rename(columns={'clean_genres': 'genres'})"
   ]
  },
  {
   "cell_type": "code",
   "execution_count": 129,
   "metadata": {},
   "outputs": [
    {
     "data": {
      "text/plain": [
       "0"
      ]
     },
     "execution_count": 129,
     "metadata": {},
     "output_type": "execute_result"
    }
   ],
   "source": [
    "steam_games['genres'].isnull().sum()"
   ]
  },
  {
   "cell_type": "code",
   "execution_count": 130,
   "metadata": {},
   "outputs": [],
   "source": [
    "#Una vez modificada la columna 'genres', procedemos a eliminar la columna 'tags'\n",
    "steam_games = steam_games.drop('tags', axis=1)"
   ]
  },
  {
   "cell_type": "code",
   "execution_count": 131,
   "metadata": {},
   "outputs": [
    {
     "name": "stdout",
     "output_type": "stream",
     "text": [
      "<class 'pandas.core.frame.DataFrame'>\n",
      "Index: 32132 entries, 0 to 32134\n",
      "Data columns (total 9 columns):\n",
      " #   Column        Non-Null Count  Dtype \n",
      "---  ------        --------------  ----- \n",
      " 0   publisher     24081 non-null  object\n",
      " 1   app_name      32131 non-null  object\n",
      " 2   reviews_url   32132 non-null  object\n",
      " 3   specs         31463 non-null  object\n",
      " 4   price         30755 non-null  object\n",
      " 5   item_id       32132 non-null  object\n",
      " 6   developer     28834 non-null  object\n",
      " 7   release_year  32132 non-null  int32 \n",
      " 8   genres        32132 non-null  object\n",
      "dtypes: int32(1), object(8)\n",
      "memory usage: 3.3+ MB\n"
     ]
    }
   ],
   "source": [
    "#Verificamos como queda el dataframe \n",
    "steam_games.info()"
   ]
  },
  {
   "cell_type": "code",
   "execution_count": 132,
   "metadata": {},
   "outputs": [],
   "source": [
    "#Ahora proseguimos con la columna 'price', ya que hay valores str. Haremos una funcion para convertir estos valores str en float 0.0\n",
    "def convertir_price(valor):\n",
    "\n",
    "    if pd.isna(valor): # si el valor es nulo retorno 0.0\n",
    "        return 0.0\n",
    "    try:\n",
    "        flotante = float(valor) # si el valor es un flotante retorno el mismo valor\n",
    "        return flotante\n",
    "    except (ValueError, TypeError): # si el valor no es un flotante retorno 0.0\n",
    "        return 0.0"
   ]
  },
  {
   "cell_type": "code",
   "execution_count": 133,
   "metadata": {},
   "outputs": [],
   "source": [
    "#Reemplazamos todos los valores que no pueden convertirse a float, por 0.0, con la funcion convertir_price.\n",
    "steam_games['price'] = steam_games['price'].apply(convertir_price) \n",
    "#Ahora los valores str tales como \"Free to Play\", se covirtieron en 0.0"
   ]
  },
  {
   "cell_type": "code",
   "execution_count": 134,
   "metadata": {},
   "outputs": [
    {
     "data": {
      "text/plain": [
       "0        4.99\n",
       "1        0.00\n",
       "2        0.00\n",
       "3        0.99\n",
       "4        2.99\n",
       "         ... \n",
       "32130    1.99\n",
       "32131    4.99\n",
       "32132    1.99\n",
       "32133    4.99\n",
       "32134    4.99\n",
       "Name: price, Length: 32132, dtype: float64"
      ]
     },
     "execution_count": 134,
     "metadata": {},
     "output_type": "execute_result"
    }
   ],
   "source": [
    "steam_games['price'] #Aca podemos observar que la columna 'price'"
   ]
  },
  {
   "cell_type": "code",
   "execution_count": 135,
   "metadata": {},
   "outputs": [
    {
     "data": {
      "text/plain": [
       "publisher       25.056019\n",
       "app_name         0.003112\n",
       "reviews_url      0.000000\n",
       "specs            2.082037\n",
       "price            0.000000\n",
       "item_id          0.000000\n",
       "developer       10.263911\n",
       "release_year     0.000000\n",
       "genres           0.000000\n",
       "dtype: float64"
      ]
     },
     "execution_count": 135,
     "metadata": {},
     "output_type": "execute_result"
    }
   ],
   "source": [
    "#Como proximo paso, vamos a ver cual es el porcentaje de nulos que quedan en cada columna\n",
    "total_filas = len(steam_games)\n",
    "nulos_x_columna = steam_games.isnull().sum()\n",
    "porcentaje_nulos_x_columna = (nulos_x_columna / total_filas) * 100\n",
    "porcentaje_nulos_x_columna"
   ]
  },
  {
   "cell_type": "code",
   "execution_count": 136,
   "metadata": {},
   "outputs": [
    {
     "data": {
      "text/plain": [
       "3298"
      ]
     },
     "execution_count": 136,
     "metadata": {},
     "output_type": "execute_result"
    }
   ],
   "source": [
    "steam_games['developer'].isnull().sum()"
   ]
  },
  {
   "cell_type": "markdown",
   "metadata": {},
   "source": [
    "Con respecto a los datos que vimos anteriormente, probamos con hacer una funcion que rellene los valores nulos de la columna 'developer' con los valores no nulos de la columna 'publisher'. Una vez hecha esta prueba, solo 30 y algun dato fueron reemplazados de los 3233. Teniendo en cuenta estos datos, decidimos dejar estos valores nulos tal como estan, y eliminar la columna 'publisher' ya que esta no es necesaria para los endpoints."
   ]
  },
  {
   "cell_type": "code",
   "execution_count": 137,
   "metadata": {},
   "outputs": [
    {
     "data": {
      "text/html": [
       "<div>\n",
       "<style scoped>\n",
       "    .dataframe tbody tr th:only-of-type {\n",
       "        vertical-align: middle;\n",
       "    }\n",
       "\n",
       "    .dataframe tbody tr th {\n",
       "        vertical-align: top;\n",
       "    }\n",
       "\n",
       "    .dataframe thead th {\n",
       "        text-align: right;\n",
       "    }\n",
       "</style>\n",
       "<table border=\"1\" class=\"dataframe\">\n",
       "  <thead>\n",
       "    <tr style=\"text-align: right;\">\n",
       "      <th></th>\n",
       "      <th>publisher</th>\n",
       "      <th>app_name</th>\n",
       "      <th>reviews_url</th>\n",
       "      <th>specs</th>\n",
       "      <th>price</th>\n",
       "      <th>item_id</th>\n",
       "      <th>developer</th>\n",
       "      <th>release_year</th>\n",
       "      <th>genres</th>\n",
       "    </tr>\n",
       "  </thead>\n",
       "  <tbody>\n",
       "    <tr>\n",
       "      <th>0</th>\n",
       "      <td>Kotoshiro</td>\n",
       "      <td>Lost Summoner Kitty</td>\n",
       "      <td>http://steamcommunity.com/app/761140/reviews/?...</td>\n",
       "      <td>[Single-player]</td>\n",
       "      <td>4.99</td>\n",
       "      <td>761140</td>\n",
       "      <td>Kotoshiro</td>\n",
       "      <td>2018</td>\n",
       "      <td>Action</td>\n",
       "    </tr>\n",
       "    <tr>\n",
       "      <th>1</th>\n",
       "      <td>Making Fun, Inc.</td>\n",
       "      <td>Ironbound</td>\n",
       "      <td>http://steamcommunity.com/app/643980/reviews/?...</td>\n",
       "      <td>[Single-player, Multi-player, Online Multi-Pla...</td>\n",
       "      <td>0.00</td>\n",
       "      <td>643980</td>\n",
       "      <td>Secret Level SRL</td>\n",
       "      <td>2018</td>\n",
       "      <td>Free to Play</td>\n",
       "    </tr>\n",
       "    <tr>\n",
       "      <th>2</th>\n",
       "      <td>Poolians.com</td>\n",
       "      <td>Real Pool 3D - Poolians</td>\n",
       "      <td>http://steamcommunity.com/app/670290/reviews/?...</td>\n",
       "      <td>[Single-player, Multi-player, Online Multi-Pla...</td>\n",
       "      <td>0.00</td>\n",
       "      <td>670290</td>\n",
       "      <td>Poolians.com</td>\n",
       "      <td>2017</td>\n",
       "      <td>Casual</td>\n",
       "    </tr>\n",
       "    <tr>\n",
       "      <th>3</th>\n",
       "      <td>彼岸领域</td>\n",
       "      <td>弹炸人2222</td>\n",
       "      <td>http://steamcommunity.com/app/767400/reviews/?...</td>\n",
       "      <td>[Single-player]</td>\n",
       "      <td>0.99</td>\n",
       "      <td>767400</td>\n",
       "      <td>彼岸领域</td>\n",
       "      <td>2017</td>\n",
       "      <td>Action</td>\n",
       "    </tr>\n",
       "    <tr>\n",
       "      <th>4</th>\n",
       "      <td>NaN</td>\n",
       "      <td>Log Challenge</td>\n",
       "      <td>http://steamcommunity.com/app/773570/reviews/?...</td>\n",
       "      <td>[Single-player, Full controller support, HTC V...</td>\n",
       "      <td>2.99</td>\n",
       "      <td>773570</td>\n",
       "      <td>NaN</td>\n",
       "      <td>2015</td>\n",
       "      <td>Action</td>\n",
       "    </tr>\n",
       "  </tbody>\n",
       "</table>\n",
       "</div>"
      ],
      "text/plain": [
       "          publisher                 app_name  \\\n",
       "0         Kotoshiro      Lost Summoner Kitty   \n",
       "1  Making Fun, Inc.                Ironbound   \n",
       "2      Poolians.com  Real Pool 3D - Poolians   \n",
       "3              彼岸领域                  弹炸人2222   \n",
       "4               NaN            Log Challenge   \n",
       "\n",
       "                                         reviews_url  \\\n",
       "0  http://steamcommunity.com/app/761140/reviews/?...   \n",
       "1  http://steamcommunity.com/app/643980/reviews/?...   \n",
       "2  http://steamcommunity.com/app/670290/reviews/?...   \n",
       "3  http://steamcommunity.com/app/767400/reviews/?...   \n",
       "4  http://steamcommunity.com/app/773570/reviews/?...   \n",
       "\n",
       "                                               specs  price item_id  \\\n",
       "0                                    [Single-player]   4.99  761140   \n",
       "1  [Single-player, Multi-player, Online Multi-Pla...   0.00  643980   \n",
       "2  [Single-player, Multi-player, Online Multi-Pla...   0.00  670290   \n",
       "3                                    [Single-player]   0.99  767400   \n",
       "4  [Single-player, Full controller support, HTC V...   2.99  773570   \n",
       "\n",
       "          developer  release_year        genres  \n",
       "0         Kotoshiro          2018        Action  \n",
       "1  Secret Level SRL          2018  Free to Play  \n",
       "2      Poolians.com          2017        Casual  \n",
       "3              彼岸领域          2017        Action  \n",
       "4               NaN          2015        Action  "
      ]
     },
     "execution_count": 137,
     "metadata": {},
     "output_type": "execute_result"
    }
   ],
   "source": [
    "steam_games.head()"
   ]
  },
  {
   "cell_type": "code",
   "execution_count": 138,
   "metadata": {},
   "outputs": [],
   "source": [
    "#Proseguimos con la columna 'specs', ya que esta columna no contiene informacion relevante, la eliminamos\n",
    "steam_games = steam_games.drop('specs', axis=1)"
   ]
  },
  {
   "cell_type": "code",
   "execution_count": 139,
   "metadata": {},
   "outputs": [
    {
     "name": "stdout",
     "output_type": "stream",
     "text": [
      "<class 'pandas.core.frame.DataFrame'>\n",
      "Index: 32132 entries, 0 to 32134\n",
      "Data columns (total 8 columns):\n",
      " #   Column        Non-Null Count  Dtype  \n",
      "---  ------        --------------  -----  \n",
      " 0   publisher     24081 non-null  object \n",
      " 1   app_name      32131 non-null  object \n",
      " 2   reviews_url   32132 non-null  object \n",
      " 3   price         32132 non-null  float64\n",
      " 4   item_id       32132 non-null  object \n",
      " 5   developer     28834 non-null  object \n",
      " 6   release_year  32132 non-null  int32  \n",
      " 7   genres        32132 non-null  object \n",
      "dtypes: float64(1), int32(1), object(6)\n",
      "memory usage: 3.1+ MB\n"
     ]
    }
   ],
   "source": [
    "steam_games.info()"
   ]
  },
  {
   "cell_type": "markdown",
   "metadata": {},
   "source": [
    "Teniendo en cuenta que la unica columna que queda con valores nulos es 'developer', decidimos eliminar dichos nulos para que no provoquen un sesgo en nuestro analisis, ya que esta columna es de mucho importancia para los endpoints."
   ]
  },
  {
   "cell_type": "code",
   "execution_count": 140,
   "metadata": {},
   "outputs": [],
   "source": [
    "#filtramos y mantenemos las columnas donde no hayan nulos\n",
    "steam_games = steam_games[steam_games['developer'].notnull()]\n",
    "\n",
    "#Reseteamos los indices despues de filtrar\n",
    "steam_games = steam_games.reset_index(drop=True)"
   ]
  },
  {
   "cell_type": "code",
   "execution_count": 141,
   "metadata": {},
   "outputs": [
    {
     "data": {
      "text/plain": [
       "0"
      ]
     },
     "execution_count": 141,
     "metadata": {},
     "output_type": "execute_result"
    }
   ],
   "source": [
    "steam_games['developer'].isnull().sum()"
   ]
  },
  {
   "cell_type": "code",
   "execution_count": 142,
   "metadata": {},
   "outputs": [
    {
     "data": {
      "text/html": [
       "<div>\n",
       "<style scoped>\n",
       "    .dataframe tbody tr th:only-of-type {\n",
       "        vertical-align: middle;\n",
       "    }\n",
       "\n",
       "    .dataframe tbody tr th {\n",
       "        vertical-align: top;\n",
       "    }\n",
       "\n",
       "    .dataframe thead th {\n",
       "        text-align: right;\n",
       "    }\n",
       "</style>\n",
       "<table border=\"1\" class=\"dataframe\">\n",
       "  <thead>\n",
       "    <tr style=\"text-align: right;\">\n",
       "      <th></th>\n",
       "      <th>publisher</th>\n",
       "      <th>app_name</th>\n",
       "      <th>reviews_url</th>\n",
       "      <th>price</th>\n",
       "      <th>item_id</th>\n",
       "      <th>developer</th>\n",
       "      <th>release_year</th>\n",
       "      <th>genres</th>\n",
       "    </tr>\n",
       "  </thead>\n",
       "  <tbody>\n",
       "    <tr>\n",
       "      <th>0</th>\n",
       "      <td>Kotoshiro</td>\n",
       "      <td>Lost Summoner Kitty</td>\n",
       "      <td>http://steamcommunity.com/app/761140/reviews/?...</td>\n",
       "      <td>4.99</td>\n",
       "      <td>761140</td>\n",
       "      <td>Kotoshiro</td>\n",
       "      <td>2018</td>\n",
       "      <td>Action</td>\n",
       "    </tr>\n",
       "    <tr>\n",
       "      <th>1</th>\n",
       "      <td>Making Fun, Inc.</td>\n",
       "      <td>Ironbound</td>\n",
       "      <td>http://steamcommunity.com/app/643980/reviews/?...</td>\n",
       "      <td>0.00</td>\n",
       "      <td>643980</td>\n",
       "      <td>Secret Level SRL</td>\n",
       "      <td>2018</td>\n",
       "      <td>Free to Play</td>\n",
       "    </tr>\n",
       "    <tr>\n",
       "      <th>2</th>\n",
       "      <td>Poolians.com</td>\n",
       "      <td>Real Pool 3D - Poolians</td>\n",
       "      <td>http://steamcommunity.com/app/670290/reviews/?...</td>\n",
       "      <td>0.00</td>\n",
       "      <td>670290</td>\n",
       "      <td>Poolians.com</td>\n",
       "      <td>2017</td>\n",
       "      <td>Casual</td>\n",
       "    </tr>\n",
       "    <tr>\n",
       "      <th>3</th>\n",
       "      <td>彼岸领域</td>\n",
       "      <td>弹炸人2222</td>\n",
       "      <td>http://steamcommunity.com/app/767400/reviews/?...</td>\n",
       "      <td>0.99</td>\n",
       "      <td>767400</td>\n",
       "      <td>彼岸领域</td>\n",
       "      <td>2017</td>\n",
       "      <td>Action</td>\n",
       "    </tr>\n",
       "    <tr>\n",
       "      <th>4</th>\n",
       "      <td>Trickjump Games Ltd</td>\n",
       "      <td>Battle Royale Trainer</td>\n",
       "      <td>http://steamcommunity.com/app/772540/reviews/?...</td>\n",
       "      <td>3.99</td>\n",
       "      <td>772540</td>\n",
       "      <td>Trickjump Games Ltd</td>\n",
       "      <td>2018</td>\n",
       "      <td>Action</td>\n",
       "    </tr>\n",
       "  </tbody>\n",
       "</table>\n",
       "</div>"
      ],
      "text/plain": [
       "             publisher                 app_name  \\\n",
       "0            Kotoshiro      Lost Summoner Kitty   \n",
       "1     Making Fun, Inc.                Ironbound   \n",
       "2         Poolians.com  Real Pool 3D - Poolians   \n",
       "3                 彼岸领域                  弹炸人2222   \n",
       "4  Trickjump Games Ltd    Battle Royale Trainer   \n",
       "\n",
       "                                         reviews_url  price item_id  \\\n",
       "0  http://steamcommunity.com/app/761140/reviews/?...   4.99  761140   \n",
       "1  http://steamcommunity.com/app/643980/reviews/?...   0.00  643980   \n",
       "2  http://steamcommunity.com/app/670290/reviews/?...   0.00  670290   \n",
       "3  http://steamcommunity.com/app/767400/reviews/?...   0.99  767400   \n",
       "4  http://steamcommunity.com/app/772540/reviews/?...   3.99  772540   \n",
       "\n",
       "             developer  release_year        genres  \n",
       "0            Kotoshiro          2018        Action  \n",
       "1     Secret Level SRL          2018  Free to Play  \n",
       "2         Poolians.com          2017        Casual  \n",
       "3                 彼岸领域          2017        Action  \n",
       "4  Trickjump Games Ltd          2018        Action  "
      ]
     },
     "execution_count": 142,
     "metadata": {},
     "output_type": "execute_result"
    }
   ],
   "source": [
    "steam_games.head() #como podemos observar, el dataframe ya quedo como queremos. sin nulos y con una disposicion homogenea."
   ]
  },
  {
   "cell_type": "code",
   "execution_count": 143,
   "metadata": {},
   "outputs": [
    {
     "data": {
      "text/html": [
       "<div>\n",
       "<style scoped>\n",
       "    .dataframe tbody tr th:only-of-type {\n",
       "        vertical-align: middle;\n",
       "    }\n",
       "\n",
       "    .dataframe tbody tr th {\n",
       "        vertical-align: top;\n",
       "    }\n",
       "\n",
       "    .dataframe thead th {\n",
       "        text-align: right;\n",
       "    }\n",
       "</style>\n",
       "<table border=\"1\" class=\"dataframe\">\n",
       "  <thead>\n",
       "    <tr style=\"text-align: right;\">\n",
       "      <th></th>\n",
       "      <th>columna</th>\n",
       "      <th>tipos_de_datos</th>\n",
       "    </tr>\n",
       "  </thead>\n",
       "  <tbody>\n",
       "    <tr>\n",
       "      <th>0</th>\n",
       "      <td>publisher</td>\n",
       "      <td>[&lt;class 'str'&gt;, &lt;class 'float'&gt;]</td>\n",
       "    </tr>\n",
       "    <tr>\n",
       "      <th>1</th>\n",
       "      <td>genres</td>\n",
       "      <td>[&lt;class 'list'&gt;, &lt;class 'float'&gt;]</td>\n",
       "    </tr>\n",
       "    <tr>\n",
       "      <th>2</th>\n",
       "      <td>app_name</td>\n",
       "      <td>[&lt;class 'str'&gt;, &lt;class 'float'&gt;]</td>\n",
       "    </tr>\n",
       "    <tr>\n",
       "      <th>3</th>\n",
       "      <td>release_date</td>\n",
       "      <td>[&lt;class 'str'&gt;, &lt;class 'float'&gt;]</td>\n",
       "    </tr>\n",
       "    <tr>\n",
       "      <th>4</th>\n",
       "      <td>tags</td>\n",
       "      <td>[&lt;class 'list'&gt;, &lt;class 'float'&gt;]</td>\n",
       "    </tr>\n",
       "    <tr>\n",
       "      <th>5</th>\n",
       "      <td>reviews_url</td>\n",
       "      <td>[&lt;class 'str'&gt;, &lt;class 'float'&gt;]</td>\n",
       "    </tr>\n",
       "    <tr>\n",
       "      <th>6</th>\n",
       "      <td>specs</td>\n",
       "      <td>[&lt;class 'list'&gt;, &lt;class 'float'&gt;]</td>\n",
       "    </tr>\n",
       "    <tr>\n",
       "      <th>7</th>\n",
       "      <td>price</td>\n",
       "      <td>[&lt;class 'float'&gt;, &lt;class 'str'&gt;]</td>\n",
       "    </tr>\n",
       "    <tr>\n",
       "      <th>8</th>\n",
       "      <td>id</td>\n",
       "      <td>[&lt;class 'str'&gt;, &lt;class 'float'&gt;]</td>\n",
       "    </tr>\n",
       "    <tr>\n",
       "      <th>9</th>\n",
       "      <td>developer</td>\n",
       "      <td>[&lt;class 'str'&gt;, &lt;class 'float'&gt;]</td>\n",
       "    </tr>\n",
       "  </tbody>\n",
       "</table>\n",
       "</div>"
      ],
      "text/plain": [
       "        columna                     tipos_de_datos\n",
       "0     publisher   [<class 'str'>, <class 'float'>]\n",
       "1        genres  [<class 'list'>, <class 'float'>]\n",
       "2      app_name   [<class 'str'>, <class 'float'>]\n",
       "3  release_date   [<class 'str'>, <class 'float'>]\n",
       "4          tags  [<class 'list'>, <class 'float'>]\n",
       "5   reviews_url   [<class 'str'>, <class 'float'>]\n",
       "6         specs  [<class 'list'>, <class 'float'>]\n",
       "7         price   [<class 'float'>, <class 'str'>]\n",
       "8            id   [<class 'str'>, <class 'float'>]\n",
       "9     developer   [<class 'str'>, <class 'float'>]"
      ]
     },
     "execution_count": 143,
     "metadata": {},
     "output_type": "execute_result"
    }
   ],
   "source": [
    "analisis_dtype"
   ]
  },
  {
   "cell_type": "code",
   "execution_count": 145,
   "metadata": {},
   "outputs": [],
   "source": [
    "# Lista de columnas para convertir a tipo string\n",
    "columnas_a_convertir = ['app_name', 'reviews_url']\n",
    "\n",
    "# Aplicar la conversión a tipo string\n",
    "steam_games[columnas_a_convertir] = steam_games[columnas_a_convertir].astype(str)\n"
   ]
  },
  {
   "cell_type": "markdown",
   "metadata": {},
   "source": [
    "PROCEDEMOS A GUARDAR EL DATAFRAME COMO CSV\n"
   ]
  },
  {
   "cell_type": "code",
   "execution_count": 146,
   "metadata": {},
   "outputs": [],
   "source": [
    "steam_games.to_csv('dataset_limpio/steam_games.csv', index=False, encoding='UTF-8') #convertimos el dataframe a csv y ponemos index=False para que no haga una nueva columna de indice."
   ]
  },
  {
   "cell_type": "markdown",
   "metadata": {},
   "source": [
    "CONVERTIMOS EL ARCHIVO CSV A PARQUET\n"
   ]
  },
  {
   "cell_type": "code",
   "execution_count": 147,
   "metadata": {},
   "outputs": [],
   "source": [
    "steam_games = pd.read_csv(\"dataset_limpio/steam_games.csv\") # leemos el archivo csv\n",
    "\n",
    "tabla = pa.Table.from_pandas(steam_games) # convertimos el dataframe en una tabla\n",
    "pq.write_table(tabla,\"dataset_limpio/steam_games.parquet\") # guardamos la tabla en un archivo parquet"
   ]
  }
 ],
 "metadata": {
  "kernelspec": {
   "display_name": "Python 3",
   "language": "python",
   "name": "python3"
  },
  "language_info": {
   "codemirror_mode": {
    "name": "ipython",
    "version": 3
   },
   "file_extension": ".py",
   "mimetype": "text/x-python",
   "name": "python",
   "nbconvert_exporter": "python",
   "pygments_lexer": "ipython3",
   "version": "3.11.5"
  }
 },
 "nbformat": 4,
 "nbformat_minor": 2
}
