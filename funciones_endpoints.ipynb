{
 "cells": [
  {
   "cell_type": "code",
   "execution_count": 1,
   "metadata": {},
   "outputs": [],
   "source": [
    "import pandas as pd \n",
    "import pyarrow as pa \n",
    "import pyarrow.parquet as pq \n",
    "import warnings\n",
    "warnings.filterwarnings('ignore')"
   ]
  },
  {
   "cell_type": "code",
   "execution_count": 4,
   "metadata": {},
   "outputs": [
    {
     "data": {
      "text/html": [
       "<div>\n",
       "<style scoped>\n",
       "    .dataframe tbody tr th:only-of-type {\n",
       "        vertical-align: middle;\n",
       "    }\n",
       "\n",
       "    .dataframe tbody tr th {\n",
       "        vertical-align: top;\n",
       "    }\n",
       "\n",
       "    .dataframe thead th {\n",
       "        text-align: right;\n",
       "    }\n",
       "</style>\n",
       "<table border=\"1\" class=\"dataframe\">\n",
       "  <thead>\n",
       "    <tr style=\"text-align: right;\">\n",
       "      <th></th>\n",
       "      <th>publisher</th>\n",
       "      <th>app_name</th>\n",
       "      <th>reviews_url</th>\n",
       "      <th>price</th>\n",
       "      <th>item_id</th>\n",
       "      <th>developer</th>\n",
       "      <th>release_year</th>\n",
       "      <th>genres</th>\n",
       "    </tr>\n",
       "  </thead>\n",
       "  <tbody>\n",
       "    <tr>\n",
       "      <th>0</th>\n",
       "      <td>Kotoshiro</td>\n",
       "      <td>Lost Summoner Kitty</td>\n",
       "      <td>http://steamcommunity.com/app/761140/reviews/?...</td>\n",
       "      <td>4.99</td>\n",
       "      <td>761140</td>\n",
       "      <td>Kotoshiro</td>\n",
       "      <td>2018</td>\n",
       "      <td>Action</td>\n",
       "    </tr>\n",
       "    <tr>\n",
       "      <th>1</th>\n",
       "      <td>Making Fun, Inc.</td>\n",
       "      <td>Ironbound</td>\n",
       "      <td>http://steamcommunity.com/app/643980/reviews/?...</td>\n",
       "      <td>0.00</td>\n",
       "      <td>643980</td>\n",
       "      <td>Secret Level SRL</td>\n",
       "      <td>2018</td>\n",
       "      <td>Free to Play</td>\n",
       "    </tr>\n",
       "  </tbody>\n",
       "</table>\n",
       "</div>"
      ],
      "text/plain": [
       "          publisher             app_name  \\\n",
       "0         Kotoshiro  Lost Summoner Kitty   \n",
       "1  Making Fun, Inc.            Ironbound   \n",
       "\n",
       "                                         reviews_url  price  item_id  \\\n",
       "0  http://steamcommunity.com/app/761140/reviews/?...   4.99   761140   \n",
       "1  http://steamcommunity.com/app/643980/reviews/?...   0.00   643980   \n",
       "\n",
       "          developer  release_year        genres  \n",
       "0         Kotoshiro          2018        Action  \n",
       "1  Secret Level SRL          2018  Free to Play  "
      ]
     },
     "execution_count": 4,
     "metadata": {},
     "output_type": "execute_result"
    }
   ],
   "source": [
    "#caragamos el dataset de steam_games\n",
    "df_steamgames = pd.read_parquet('dataset_limpio/steam_games.parquet')\n",
    "df_steamgames.head(2)"
   ]
  },
  {
   "cell_type": "code",
   "execution_count": 5,
   "metadata": {},
   "outputs": [
    {
     "data": {
      "text/html": [
       "<div>\n",
       "<style scoped>\n",
       "    .dataframe tbody tr th:only-of-type {\n",
       "        vertical-align: middle;\n",
       "    }\n",
       "\n",
       "    .dataframe tbody tr th {\n",
       "        vertical-align: top;\n",
       "    }\n",
       "\n",
       "    .dataframe thead th {\n",
       "        text-align: right;\n",
       "    }\n",
       "</style>\n",
       "<table border=\"1\" class=\"dataframe\">\n",
       "  <thead>\n",
       "    <tr style=\"text-align: right;\">\n",
       "      <th></th>\n",
       "      <th>item_id</th>\n",
       "      <th>item_name</th>\n",
       "      <th>steam_id</th>\n",
       "      <th>items_count</th>\n",
       "      <th>user_id</th>\n",
       "      <th>playtime_hours</th>\n",
       "    </tr>\n",
       "  </thead>\n",
       "  <tbody>\n",
       "    <tr>\n",
       "      <th>0</th>\n",
       "      <td>10</td>\n",
       "      <td>Counter-Strike</td>\n",
       "      <td>76561197970982479</td>\n",
       "      <td>277</td>\n",
       "      <td>76561197970982479</td>\n",
       "      <td>0.10</td>\n",
       "    </tr>\n",
       "    <tr>\n",
       "      <th>1</th>\n",
       "      <td>30</td>\n",
       "      <td>Day of Defeat</td>\n",
       "      <td>76561197970982479</td>\n",
       "      <td>277</td>\n",
       "      <td>76561197970982479</td>\n",
       "      <td>0.12</td>\n",
       "    </tr>\n",
       "  </tbody>\n",
       "</table>\n",
       "</div>"
      ],
      "text/plain": [
       "   item_id       item_name           steam_id  items_count            user_id  \\\n",
       "0       10  Counter-Strike  76561197970982479          277  76561197970982479   \n",
       "1       30   Day of Defeat  76561197970982479          277  76561197970982479   \n",
       "\n",
       "   playtime_hours  \n",
       "0            0.10  \n",
       "1            0.12  "
      ]
     },
     "execution_count": 5,
     "metadata": {},
     "output_type": "execute_result"
    }
   ],
   "source": [
    "#cargamos el dataset de users_items\n",
    "df_users_items = pd.read_parquet('dataset_limpio/items_normalized.parquet')\n",
    "df_users_items.head(2)"
   ]
  },
  {
   "cell_type": "code",
   "execution_count": 19,
   "metadata": {},
   "outputs": [
    {
     "data": {
      "text/html": [
       "<div>\n",
       "<style scoped>\n",
       "    .dataframe tbody tr th:only-of-type {\n",
       "        vertical-align: middle;\n",
       "    }\n",
       "\n",
       "    .dataframe tbody tr th {\n",
       "        vertical-align: top;\n",
       "    }\n",
       "\n",
       "    .dataframe thead th {\n",
       "        text-align: right;\n",
       "    }\n",
       "</style>\n",
       "<table border=\"1\" class=\"dataframe\">\n",
       "  <thead>\n",
       "    <tr style=\"text-align: right;\">\n",
       "      <th></th>\n",
       "      <th>publisher</th>\n",
       "      <th>app_name</th>\n",
       "      <th>reviews_url</th>\n",
       "      <th>price</th>\n",
       "      <th>item_id</th>\n",
       "      <th>developer</th>\n",
       "      <th>release_year</th>\n",
       "      <th>genres</th>\n",
       "      <th>user_id</th>\n",
       "      <th>recommend</th>\n",
       "      <th>posted_year</th>\n",
       "      <th>sentiment_analysis</th>\n",
       "    </tr>\n",
       "  </thead>\n",
       "  <tbody>\n",
       "    <tr>\n",
       "      <th>0</th>\n",
       "      <td>Octoshark Studios</td>\n",
       "      <td>Pirates, Vikings, and Knights II</td>\n",
       "      <td>http://steamcommunity.com/app/17570/reviews/?b...</td>\n",
       "      <td>0.0</td>\n",
       "      <td>17570</td>\n",
       "      <td>Octoshark Studios</td>\n",
       "      <td>2010</td>\n",
       "      <td>Action</td>\n",
       "      <td>76561198010653835</td>\n",
       "      <td>True</td>\n",
       "      <td>2015</td>\n",
       "      <td>2</td>\n",
       "    </tr>\n",
       "    <tr>\n",
       "      <th>1</th>\n",
       "      <td>Octoshark Studios</td>\n",
       "      <td>Pirates, Vikings, and Knights II</td>\n",
       "      <td>http://steamcommunity.com/app/17570/reviews/?b...</td>\n",
       "      <td>0.0</td>\n",
       "      <td>17570</td>\n",
       "      <td>Octoshark Studios</td>\n",
       "      <td>2010</td>\n",
       "      <td>Action</td>\n",
       "      <td>76561198075581042</td>\n",
       "      <td>True</td>\n",
       "      <td>2014</td>\n",
       "      <td>2</td>\n",
       "    </tr>\n",
       "    <tr>\n",
       "      <th>2</th>\n",
       "      <td>Octoshark Studios</td>\n",
       "      <td>Pirates, Vikings, and Knights II</td>\n",
       "      <td>http://steamcommunity.com/app/17570/reviews/?b...</td>\n",
       "      <td>0.0</td>\n",
       "      <td>17570</td>\n",
       "      <td>Octoshark Studios</td>\n",
       "      <td>2010</td>\n",
       "      <td>Action</td>\n",
       "      <td>GameBrak</td>\n",
       "      <td>True</td>\n",
       "      <td>2015</td>\n",
       "      <td>2</td>\n",
       "    </tr>\n",
       "    <tr>\n",
       "      <th>3</th>\n",
       "      <td>Octoshark Studios</td>\n",
       "      <td>Pirates, Vikings, and Knights II</td>\n",
       "      <td>http://steamcommunity.com/app/17570/reviews/?b...</td>\n",
       "      <td>0.0</td>\n",
       "      <td>17570</td>\n",
       "      <td>Octoshark Studios</td>\n",
       "      <td>2010</td>\n",
       "      <td>Action</td>\n",
       "      <td>CjDoesIntros</td>\n",
       "      <td>True</td>\n",
       "      <td>2014</td>\n",
       "      <td>1</td>\n",
       "    </tr>\n",
       "    <tr>\n",
       "      <th>4</th>\n",
       "      <td>Octoshark Studios</td>\n",
       "      <td>Pirates, Vikings, and Knights II</td>\n",
       "      <td>http://steamcommunity.com/app/17570/reviews/?b...</td>\n",
       "      <td>0.0</td>\n",
       "      <td>17570</td>\n",
       "      <td>Octoshark Studios</td>\n",
       "      <td>2010</td>\n",
       "      <td>Action</td>\n",
       "      <td>76561198075920681</td>\n",
       "      <td>True</td>\n",
       "      <td>2015</td>\n",
       "      <td>1</td>\n",
       "    </tr>\n",
       "  </tbody>\n",
       "</table>\n",
       "</div>"
      ],
      "text/plain": [
       "           publisher                          app_name  \\\n",
       "0  Octoshark Studios  Pirates, Vikings, and Knights II   \n",
       "1  Octoshark Studios  Pirates, Vikings, and Knights II   \n",
       "2  Octoshark Studios  Pirates, Vikings, and Knights II   \n",
       "3  Octoshark Studios  Pirates, Vikings, and Knights II   \n",
       "4  Octoshark Studios  Pirates, Vikings, and Knights II   \n",
       "\n",
       "                                         reviews_url  price  item_id  \\\n",
       "0  http://steamcommunity.com/app/17570/reviews/?b...    0.0    17570   \n",
       "1  http://steamcommunity.com/app/17570/reviews/?b...    0.0    17570   \n",
       "2  http://steamcommunity.com/app/17570/reviews/?b...    0.0    17570   \n",
       "3  http://steamcommunity.com/app/17570/reviews/?b...    0.0    17570   \n",
       "4  http://steamcommunity.com/app/17570/reviews/?b...    0.0    17570   \n",
       "\n",
       "           developer  release_year  genres            user_id  recommend  \\\n",
       "0  Octoshark Studios          2010  Action  76561198010653835       True   \n",
       "1  Octoshark Studios          2010  Action  76561198075581042       True   \n",
       "2  Octoshark Studios          2010  Action           GameBrak       True   \n",
       "3  Octoshark Studios          2010  Action       CjDoesIntros       True   \n",
       "4  Octoshark Studios          2010  Action  76561198075920681       True   \n",
       "\n",
       "   posted_year  sentiment_analysis  \n",
       "0         2015                   2  \n",
       "1         2014                   2  \n",
       "2         2015                   2  \n",
       "3         2014                   1  \n",
       "4         2015                   1  "
      ]
     },
     "execution_count": 19,
     "metadata": {},
     "output_type": "execute_result"
    }
   ],
   "source": [
    "#cargamos el dataset de reviews\n",
    "df_steamgames_and_reviews = pd.read_parquet('dataset_funciones/steamgames_and_reviews.parquet')\n",
    "df_steamgames_and_reviews.head()\n"
   ]
  },
  {
   "cell_type": "markdown",
   "metadata": {},
   "source": [
    "### Función `PlayTimeGenre`"
   ]
  },
  {
   "cell_type": "markdown",
   "metadata": {},
   "source": [
    "Esta función devuelve el año con mas horas de juego para un género"
   ]
  },
  {
   "cell_type": "code",
   "execution_count": 6,
   "metadata": {},
   "outputs": [],
   "source": [
    "def PlayTimeGenre(genero, df_steamgames: pd.DataFrame, df_users_items: pd.DataFrame):\n",
    "    # Convertimos el género proporcionado a minúsculas para una comparación sin distinción de mayúsculas\n",
    "    genero = genero.lower()\n",
    "    \n",
    "    # Filtramos los juegos por género de manera más flexible\n",
    "    df_filtered = df_steamgames[df_steamgames['genres'].str.lower().str.contains(fr'\\b{genero}\\b', na=False)]\n",
    "\n",
    "    if not df_filtered.empty:\n",
    "        # Convertimos 'item_id' a tipo de dato object en ambos DataFrames\n",
    "        df_users_items['item_id'] = df_users_items['item_id'].astype(str)\n",
    "        df_filtered['item_id'] = df_filtered['item_id'].astype(str)\n",
    "\n",
    "        df_merged = pd.merge(df_users_items, df_filtered[['item_id', 'release_year']], left_on='item_id', right_on='item_id')\n",
    "        \n",
    "        # Verificamos si la longitud de df_filtered es mayor a cero, es decir, se encontraron géneros\n",
    "        result = {\"Año con más horas jugadas para el género {}: {}\".format(genero.capitalize(), df_merged.groupby('release_year')['playtime_hours'].sum().idxmax())}\n",
    "    else:\n",
    "        result = {\"Año con más horas jugadas para género {}: {}\".format(genero.capitalize(), \"Género no encontrado en la base de datos\")}\n",
    "\n",
    "    return result"
   ]
  },
  {
   "cell_type": "code",
   "execution_count": 9,
   "metadata": {},
   "outputs": [
    {
     "data": {
      "text/plain": [
       "{'Año con más horas jugadas para el género Action: 2012'}"
      ]
     },
     "execution_count": 9,
     "metadata": {},
     "output_type": "execute_result"
    }
   ],
   "source": [
    "PlayTimeGenre('Action', df_steamgames, df_users_items)"
   ]
  },
  {
   "cell_type": "markdown",
   "metadata": {},
   "source": [
    "### Función `UserForGenre`"
   ]
  },
  {
   "cell_type": "markdown",
   "metadata": {},
   "source": [
    "Función que devuelve el usuario con mas cantidad de horas jugadas para un genero"
   ]
  },
  {
   "cell_type": "code",
   "execution_count": 10,
   "metadata": {},
   "outputs": [],
   "source": [
    "def UserForGenre(genero: str, df_steamgames: pd.DataFrame, df_users_items: pd.DataFrame):\n",
    "    # Convertimos el género proporcionado a minúsculas para una comparación sin distinción de mayúsculas\n",
    "    genero = genero.lower()\n",
    "    \n",
    "    # Filtramos los juegos por género de manera más flexible\n",
    "    df_filtered = df_steamgames[df_steamgames['genres'].str.lower().str.contains(fr'\\b{genero}\\b', na=False)]\n",
    "    \n",
    "    if not df_filtered.empty:\n",
    "        df_users_items['item_id'] = df_users_items['item_id'].astype(str)\n",
    "        \n",
    "        # Convertimos la columna 'item_id' en df_filtered a tipo 'str'\n",
    "        df_filtered['item_id'] = df_filtered['item_id'].astype(str)\n",
    "        \n",
    "        df_merged = pd.merge(df_users_items, df_filtered[['item_id', 'release_year']], on='item_id')\n",
    "        \n",
    "        # Filtramos los datos desde el año 2003 en adelante\n",
    "        df_merged = df_merged[df_merged['release_year'] >= 2003]\n",
    "        user_with_most_playtime = df_merged.groupby('user_id')['playtime_hours'].sum().idxmax()\n",
    "        playtime_by_year = df_merged.groupby(['release_year', 'user_id'])['playtime_hours'].sum().reset_index()\n",
    "        playtime_by_year = playtime_by_year[playtime_by_year['user_id'] == user_with_most_playtime]\n",
    "        playtime_by_year = playtime_by_year.rename(columns={'release_year': 'Año', 'playtime_hours': 'Horas'})\n",
    "        \n",
    "        # Convertimos las horas a enteros\n",
    "        playtime_by_year['Horas'] = playtime_by_year['Horas'].astype(int)\n",
    "        \n",
    "        result = {\n",
    "            \"Usuario con más horas jugadas para Género {}:\".format(genero.capitalize()): user_with_most_playtime,\n",
    "            \"Horas jugadas\": [{\"Año\": str(row['Año']), \"Horas\": row['Horas']} for _, row in playtime_by_year.iterrows()]\n",
    "        }\n",
    "    else:\n",
    "        result = {\"Usuario con más horas jugadas para Género {}:\".format(genero.capitalize()): \"Género no encontrado en la base de datos\", \"Horas jugadas\": []}\n",
    "    \n",
    "    return result"
   ]
  },
  {
   "cell_type": "code",
   "execution_count": 12,
   "metadata": {},
   "outputs": [
    {
     "data": {
      "text/plain": [
       "{'Usuario con más horas jugadas para Género Indie:': 'wolop',\n",
       " 'Horas jugadas': [{'Año': '2006', 'Horas': 10712}]}"
      ]
     },
     "execution_count": 12,
     "metadata": {},
     "output_type": "execute_result"
    }
   ],
   "source": [
    "UserForGenre('Indie', df_steamgames, df_users_items)"
   ]
  },
  {
   "cell_type": "markdown",
   "metadata": {},
   "source": [
    "### Función `UsersRecommend`"
   ]
  },
  {
   "cell_type": "markdown",
   "metadata": {},
   "source": [
    "Función que devuelve el Top 3 de los juegos mas recomendados por año"
   ]
  },
  {
   "cell_type": "code",
   "execution_count": 20,
   "metadata": {},
   "outputs": [],
   "source": [
    "def UsersRecommend(año: int, df_steamgames_and_reviews: pd.DataFrame):\n",
    "    # Verificamos si el año está dentro del rango esperado\n",
    "    rango_aceptado = range(2010, 2016)\n",
    "    if año not in rango_aceptado:\n",
    "        return {\"message\": \"Solo existen registros entre 2010 y 2015\"}\n",
    "\n",
    "    # Filtramos por el año deseado\n",
    "    df_filtered = df_steamgames_and_reviews[df_steamgames_and_reviews['release_year'] == año]\n",
    "\n",
    "    # Filtramos por comentarios recomendados y sentiment_analysis positivo/neutral\n",
    "    df_filtered = df_filtered[(df_filtered['recommend'] == True) & (df_filtered['sentiment_analysis'].isin([0, 1, 2]))]\n",
    "\n",
    "    # Obtenemos el top 3 de juegos recomendados\n",
    "    top_games = df_filtered['app_name'].value_counts().head(3).reset_index()\n",
    "    top_games = top_games.rename(columns={'index': 'Puesto 1', 'app_name': 'Juego'})\n",
    "\n",
    "    # Modificamos la estructura del resultado\n",
    "    result = [{\"Puesto {}\".format(i + 1): juego, 'recomendaciones': count} for i, (juego, count) in enumerate(zip(top_games['Juego'], top_games['count']))]\n",
    "\n",
    "    return result"
   ]
  },
  {
   "cell_type": "code",
   "execution_count": 23,
   "metadata": {},
   "outputs": [
    {
     "data": {
      "text/plain": [
       "[{'Puesto 1': 'Grand Theft Auto V', 'recomendaciones': 272},\n",
       " {'Puesto 2': 'Rocket League®', 'recomendaciones': 260},\n",
       " {'Puesto 3': 'Undertale', 'recomendaciones': 215}]"
      ]
     },
     "execution_count": 23,
     "metadata": {},
     "output_type": "execute_result"
    }
   ],
   "source": [
    "UsersRecommend(2015, df_steamgames_and_reviews)"
   ]
  },
  {
   "cell_type": "markdown",
   "metadata": {},
   "source": [
    "### Función `UsersWorstDeveloper`"
   ]
  },
  {
   "cell_type": "markdown",
   "metadata": {},
   "source": [
    "Función que devuelve el Top 3 de los peores desarrolladores del año"
   ]
  },
  {
   "cell_type": "code",
   "execution_count": 25,
   "metadata": {},
   "outputs": [],
   "source": [
    "def UsersWorstDeveloper(año: int, df_steamgames_and_reviews: pd.DataFrame):\n",
    "    # Verificamos si el año está dentro del rango esperado\n",
    "    rango_aceptado = range(2010, 2016)\n",
    "    if año not in rango_aceptado:\n",
    "        return {\"message\": \"solo existen registros entre 2010 y 2015\"}\n",
    "\n",
    "    # Filtramos por comentarios no recomendados y sentiment_analysis negativo\n",
    "    df_filtered = df_steamgames_and_reviews[(df_steamgames_and_reviews['recommend'] == False) & (df_steamgames_and_reviews['sentiment_analysis'] == 0)]\n",
    "\n",
    "    # Filtramos por el año deseado\n",
    "    df_filtered_year = df_filtered[df_filtered['release_year'] == año]\n",
    "\n",
    "    # Si no hay datos para el año, retornamos mensaje\n",
    "    if not df_filtered_year.empty:\n",
    "        # Obtener los top 3 desarrolladores con menos recomendaciones\n",
    "        top_developers = df_filtered_year['developer'].value_counts().head(3).reset_index()\n",
    "        top_developers = top_developers.rename(columns={'index': 'Puesto 1', 'developer': 'Desarrollador'})\n",
    "\n",
    "        # Modificamos la estructura del resultado\n",
    "        result = [{\"Puesto {}\".format(i + 1): desarrollador} for i, desarrollador in enumerate(top_developers['Desarrollador'])]\n",
    "    else:\n",
    "        result = {\"No hay juegos no recomendados para el año {}\".format(año)}\n",
    "\n",
    "    return result"
   ]
  },
  {
   "cell_type": "code",
   "execution_count": 27,
   "metadata": {},
   "outputs": [
    {
     "data": {
      "text/plain": [
       "[{'Puesto 1': 'Reloaded Productions'},\n",
       " {'Puesto 2': 'Trashmasters'},\n",
       " {'Puesto 3': 'Re-Logic'}]"
      ]
     },
     "execution_count": 27,
     "metadata": {},
     "output_type": "execute_result"
    }
   ],
   "source": [
    "UsersWorstDeveloper(2011, df_steamgames_and_reviews)"
   ]
  },
  {
   "cell_type": "markdown",
   "metadata": {},
   "source": [
    "### Función `sentiment_analysis`"
   ]
  },
  {
   "cell_type": "markdown",
   "metadata": {},
   "source": [
    "Función que devuelve el conteo de las reviews positivas, neutrales y negativas de un desarrollador"
   ]
  },
  {
   "cell_type": "code",
   "execution_count": 28,
   "metadata": {},
   "outputs": [],
   "source": [
    "def sentiment_analysis(empresa_desarrolladora: str, df_steamgames_and_reviews: pd.DataFrame):\n",
    "    # Filtramos por desarrolladora\n",
    "    df_filtered_developer = df_steamgames_and_reviews[df_steamgames_and_reviews['developer'] == empresa_desarrolladora]\n",
    "\n",
    "    # Verificamos que haya datos para la desarrolladora\n",
    "    if not df_filtered_developer.empty:\n",
    "        # Contamos los sentimientos y mapeamos el número del sentimiento a su etiqueta correspondiente\n",
    "        sentiment_counts = df_filtered_developer['sentiment_analysis'].value_counts().reset_index(drop=True)\n",
    "        sentiment_mapping = {0: 'Negative', 1: 'Neutral', 2: 'Positive'}\n",
    "        sentiment_counts.index = sentiment_counts.index.map(sentiment_mapping)\n",
    "        \n",
    "        result = {empresa_desarrolladora: sentiment_counts.to_dict()}\n",
    "    else:\n",
    "        result = 'No cuento con los registros de esa empresa en mi base de datos'\n",
    "\n",
    "    return result"
   ]
  },
  {
   "cell_type": "code",
   "execution_count": 34,
   "metadata": {},
   "outputs": [
    {
     "data": {
      "text/plain": [
       "{'Ubisoft': {'Negative': 52, 'Neutral': 32, 'Positive': 19}}"
      ]
     },
     "execution_count": 34,
     "metadata": {},
     "output_type": "execute_result"
    }
   ],
   "source": [
    "sentiment_analysis('Ubisoft', df_steamgames_and_reviews)"
   ]
  }
 ],
 "metadata": {
  "kernelspec": {
   "display_name": "Python 3",
   "language": "python",
   "name": "python3"
  },
  "language_info": {
   "codemirror_mode": {
    "name": "ipython",
    "version": 3
   },
   "file_extension": ".py",
   "mimetype": "text/x-python",
   "name": "python",
   "nbconvert_exporter": "python",
   "pygments_lexer": "ipython3",
   "version": "3.11.5"
  }
 },
 "nbformat": 4,
 "nbformat_minor": 2
}
